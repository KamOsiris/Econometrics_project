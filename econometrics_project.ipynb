{
 "cells": [
  {
   "cell_type": "markdown",
   "metadata": {},
   "source": [
    "# Econometrics Project\n",
    "\n",
    "Enguerrand Beitz - YETNA Kam Osiris k"
   ]
  },
  {
   "cell_type": "markdown",
   "metadata": {},
   "source": [
    "ask\n"
   ]
  }
 ],
 "metadata": {
  "language_info": {
   "name": "python"
  }
 },
 "nbformat": 4,
 "nbformat_minor": 2
}
