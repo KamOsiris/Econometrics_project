{
 "cells": [
  {
   "cell_type": "markdown",
   "metadata": {},
   "source": [
    "# Econometrics Project\n",
    "\n",
    "BEITZ Enguerrand - YETNA Kam Osiris "
   ]
  },
  {
   "cell_type": "markdown",
   "metadata": {},
   "source": [
    "IMPORTS"
   ]
  },
  {
   "cell_type": "code",
   "execution_count": 34,
   "metadata": {},
   "outputs": [],
   "source": [
    "import pandas as pd\n",
    "import matplotlib.pyplot as plt\n",
    "import statsmodels.api as sm\n",
    "import numpy as np\n",
    "from scipy.stats import t\n",
    "from scipy.stats import f\n",
    "from statsmodels.stats.diagnostic import het_breuschpagan\n",
    "from statsmodels.tsa.stattools import adfuller\n",
    "from statsmodels.tsa.stattools import acf, pacf\n",
    "from statsmodels.graphics.tsaplots import plot_acf, plot_pacf\n"
   ]
  },
  {
   "cell_type": "markdown",
   "metadata": {},
   "source": [
    "# PART 1 - CROSS-SECTION DATA "
   ]
  },
  {
   "cell_type": "markdown",
   "metadata": {},
   "source": [
    "1) State the fundamental hypothesis under which the Ordinary Least Squares (OLS) estimators are unbiased. \n"
   ]
  },
  {
   "cell_type": "markdown",
   "metadata": {},
   "source": [
    "Let $Y_i = \\beta_0 + \\sum_{K=1}^{n} {(X_{i,K}*\\beta_K)}  + u_i$; for $i\\in[1,n]$ $\\newline$\n",
    "with : $\\newline$\n",
    "$Y = (Y_1,\\ldots, Y_n, Y_{n+1})'$, the dependant variable $\\newline$\n",
    "$X = (1, X_1,\\ldots,X_n)'$, the independant variable $\\newline$\n",
    "$u = (u_1,\\ldots, u_{n+1})'$,, the error $\\newline$\n",
    "$\\beta = (\\beta_0,\\ldots, \\beta_n)'$,\n",
    "E the operator of esperence\n",
    "\n",
    "We have, with this notations: $Y=X'*\\beta + u$\n",
    "\n",
    "The fundamental hypothesis under which OLS estimators are unbiased is : $\\boxed{EX'u = \\mathbb{E}(u|X) = 0}$"
   ]
  },
  {
   "cell_type": "markdown",
   "metadata": {},
   "source": [
    "2) Show that under this assumption the OLS estimators are indeed unbiased. "
   ]
  },
  {
   "cell_type": "markdown",
   "metadata": {},
   "source": [
    "Let’s take the same notations as in question 1.\n",
    "\n",
    "We have : $Y=X'*\\beta + u$\n",
    "\n",
    "OLS estimates are obtained by solving the following minimization problem : \n",
    "\n",
    "$$Min_\\beta \\sum_{i=1}^{n} {u’_{i} u_{i}} = u’u = (y-X\\beta)’ (y-X\\beta)$$\n",
    "\n",
    "The first-order condition is (by deriving the function above):\n",
    "\n",
    "$$-2X’ (y-X\\beta) = 0$$\n",
    "\n",
    "Re-arranging terms gives:\n",
    "\n",
    "$$(X’X) \\beta = X’ y$$\n",
    "\n",
    "If there is no multi-collinearity then matrix (X’X) can be inverted and : \n",
    "\n",
    "$$\\hat{\\beta} = (X’X)^{-1} X’y$$\n",
    "\n",
    "As a consequence, we have:\n",
    "\n",
    "$$E \\hat{\\beta} = E(X’X)^{-1} X’ (X\\beta + u) = \\beta + EX’u = \\beta \\quad \\text{  if the fundamental assumption $EX’u = 0$ is satisfied}$$\n",
    "\n",
    "All in all, the OLS estimator is unbiased if the fundamental assumption is satisfied."
   ]
  },
  {
   "cell_type": "markdown",
   "metadata": {},
   "source": [
    "3) Explain the sample selection bias with an example from the course."
   ]
  },
  {
   "cell_type": "markdown",
   "metadata": {},
   "source": [
    "A sample selection bias occurs when used for a study is not representative of the population we want to study. There is a distortion between the composition of the sample and the real population, which can lead to biased conclusions. \n",
    "\n",
    "Here is an example of a specific sample selection bias, which is the survival bias: this occurs when the sample is composed solely of those who survived a certain event or period. This can lead to an under-representation of individuals who did not survive, which distorts the results.\n",
    "\n",
    "Example: Assume a study which examines the relationship between the growth rate and size of companies. The Gibrat law argues that if growth is independent of size, the distribution of observed company sizes should align with the general distribution. However, early empirical studies indicate a negative relationship between growth and company size, possibly due to only the small, highly dynamic companies surviving in the market. This introduces a survival bias, as the sample includes only those companies that have survived, neglecting those that exited the market, potentially leading to inaccurate conclusions about the relationship between growth and size.\n"
   ]
  },
  {
   "cell_type": "markdown",
   "metadata": {},
   "source": [
    "4) Explain the omitted variable bias with an example from the course"
   ]
  },
  {
   "cell_type": "markdown",
   "metadata": {},
   "source": [
    "Omitted variable bias occurs when a relevant variable that influences both the variable we are trying to predict, and the variable used to predict it is not included in the model. \n",
    "\n",
    "Example: Assume that the objective is to investigate the impact of fertilizers on soybean agricultural yields. However, that yield depends on a great number of other factors, such as climate, soil quality, presence of pests, etc. When selecting plots of land for the experiment, not all these other factors are considered in the analysis. If fertilizers are systematically applied to the better plots, it can lead to an overestimation of the impact of fertilizers on yield, as the better plots may naturally produce higher yields independently of the fertilizer effect.\n"
   ]
  },
  {
   "cell_type": "markdown",
   "metadata": {},
   "source": [
    "5) Explain the problem of multicollinearity. Is it a problem in this dataset?"
   ]
  },
  {
   "cell_type": "markdown",
   "metadata": {},
   "source": [
    "$\\underline{\\text{The problem of multicollinearity arises when we want to calculate variances or standard deviations.}} $\n",
    "\n",
    "If we Assume homoscedasticity i.e for $i \\in[1,n] $;  $Var(u_i|x_i)=\\sigma^2$ $\\newline$\n",
    "Let's show that: $Var(b|X) = \\sigma^2(X'X)^{-1}$; \n",
    "\n",
    "$Var(b | X) = Var((X'X)^{-1} X'(X \\beta + u)|X)$\n",
    "\n",
    "$Var(b | X) = 0 + (X'X)^{-1} X' Var(u|X) X(X'X)^{-1}$\n",
    "\n",
    "$\\boxed{Var(b | X) = \\sigma ^{2}(X'X)^{-1}}$\n",
    "\n",
    "The problem of multicollinearity arises when X'X is close to 0.\n",
    "\n",
    "This problem occurs when two or more columns of X are (quasi) linearly dependent.\n",
    "\n",
    "Thus, $det(X'X) = 0$ (or close)\n",
    "\n",
    "So it's difficult to calculate the inverse of X'X.\n",
    "\n",
    "In the dataset on which we are working, there is a problem of multicollinearity because by looking the dataset 'HPRICE2.raw', we notice that columns radial,proptax and stratio are quasi independant"
   ]
  },
  {
   "cell_type": "markdown",
   "metadata": {},
   "source": [
    "6) Create three categories of nox levels (low, medium, high), corresponding to the following\n",
    "percentiles: 0-25%, 26%-74%, 75%-100%"
   ]
  },
  {
   "cell_type": "code",
   "execution_count": 3,
   "metadata": {},
   "outputs": [
    {
     "data": {
      "text/html": [
       "<div>\n",
       "<style scoped>\n",
       "    .dataframe tbody tr th:only-of-type {\n",
       "        vertical-align: middle;\n",
       "    }\n",
       "\n",
       "    .dataframe tbody tr th {\n",
       "        vertical-align: top;\n",
       "    }\n",
       "\n",
       "    .dataframe thead th {\n",
       "        text-align: right;\n",
       "    }\n",
       "</style>\n",
       "<table border=\"1\" class=\"dataframe\">\n",
       "  <thead>\n",
       "    <tr style=\"text-align: right;\">\n",
       "      <th></th>\n",
       "      <th>price</th>\n",
       "      <th>crime</th>\n",
       "      <th>nox</th>\n",
       "      <th>rooms</th>\n",
       "      <th>dist</th>\n",
       "      <th>radial</th>\n",
       "      <th>proptax</th>\n",
       "      <th>stratio</th>\n",
       "      <th>lowstat</th>\n",
       "      <th>lprice</th>\n",
       "      <th>lnox</th>\n",
       "      <th>lproptax</th>\n",
       "      <th>nox_category</th>\n",
       "    </tr>\n",
       "  </thead>\n",
       "  <tbody>\n",
       "    <tr>\n",
       "      <th>0</th>\n",
       "      <td>24000</td>\n",
       "      <td>0.006</td>\n",
       "      <td>5.38</td>\n",
       "      <td>6.57</td>\n",
       "      <td>4.09</td>\n",
       "      <td>1</td>\n",
       "      <td>29.6</td>\n",
       "      <td>15.3</td>\n",
       "      <td>4.98</td>\n",
       "      <td>10.085810</td>\n",
       "      <td>1.682688</td>\n",
       "      <td>5.690360</td>\n",
       "      <td>medium</td>\n",
       "    </tr>\n",
       "    <tr>\n",
       "      <th>1</th>\n",
       "      <td>21599</td>\n",
       "      <td>0.027</td>\n",
       "      <td>4.69</td>\n",
       "      <td>6.42</td>\n",
       "      <td>4.97</td>\n",
       "      <td>2</td>\n",
       "      <td>24.2</td>\n",
       "      <td>17.8</td>\n",
       "      <td>9.14</td>\n",
       "      <td>9.980402</td>\n",
       "      <td>1.545433</td>\n",
       "      <td>5.488938</td>\n",
       "      <td>medium</td>\n",
       "    </tr>\n",
       "    <tr>\n",
       "      <th>2</th>\n",
       "      <td>34700</td>\n",
       "      <td>0.027</td>\n",
       "      <td>4.69</td>\n",
       "      <td>7.18</td>\n",
       "      <td>4.97</td>\n",
       "      <td>2</td>\n",
       "      <td>24.2</td>\n",
       "      <td>17.8</td>\n",
       "      <td>4.03</td>\n",
       "      <td>10.454500</td>\n",
       "      <td>1.545433</td>\n",
       "      <td>5.488938</td>\n",
       "      <td>medium</td>\n",
       "    </tr>\n",
       "    <tr>\n",
       "      <th>3</th>\n",
       "      <td>33400</td>\n",
       "      <td>0.032</td>\n",
       "      <td>4.58</td>\n",
       "      <td>7.00</td>\n",
       "      <td>6.06</td>\n",
       "      <td>3</td>\n",
       "      <td>22.2</td>\n",
       "      <td>18.7</td>\n",
       "      <td>2.94</td>\n",
       "      <td>10.416310</td>\n",
       "      <td>1.521699</td>\n",
       "      <td>5.402678</td>\n",
       "      <td>medium</td>\n",
       "    </tr>\n",
       "    <tr>\n",
       "      <th>4</th>\n",
       "      <td>36199</td>\n",
       "      <td>0.069</td>\n",
       "      <td>4.58</td>\n",
       "      <td>7.15</td>\n",
       "      <td>6.06</td>\n",
       "      <td>3</td>\n",
       "      <td>22.2</td>\n",
       "      <td>18.7</td>\n",
       "      <td>5.33</td>\n",
       "      <td>10.496790</td>\n",
       "      <td>1.521699</td>\n",
       "      <td>5.402678</td>\n",
       "      <td>medium</td>\n",
       "    </tr>\n",
       "    <tr>\n",
       "      <th>...</th>\n",
       "      <td>...</td>\n",
       "      <td>...</td>\n",
       "      <td>...</td>\n",
       "      <td>...</td>\n",
       "      <td>...</td>\n",
       "      <td>...</td>\n",
       "      <td>...</td>\n",
       "      <td>...</td>\n",
       "      <td>...</td>\n",
       "      <td>...</td>\n",
       "      <td>...</td>\n",
       "      <td>...</td>\n",
       "      <td>...</td>\n",
       "    </tr>\n",
       "    <tr>\n",
       "      <th>501</th>\n",
       "      <td>22400</td>\n",
       "      <td>0.063</td>\n",
       "      <td>5.73</td>\n",
       "      <td>6.59</td>\n",
       "      <td>2.48</td>\n",
       "      <td>1</td>\n",
       "      <td>27.3</td>\n",
       "      <td>21.0</td>\n",
       "      <td>9.67</td>\n",
       "      <td>10.016820</td>\n",
       "      <td>1.745715</td>\n",
       "      <td>5.609472</td>\n",
       "      <td>medium</td>\n",
       "    </tr>\n",
       "    <tr>\n",
       "      <th>502</th>\n",
       "      <td>20600</td>\n",
       "      <td>0.045</td>\n",
       "      <td>5.73</td>\n",
       "      <td>6.12</td>\n",
       "      <td>2.29</td>\n",
       "      <td>1</td>\n",
       "      <td>27.3</td>\n",
       "      <td>21.0</td>\n",
       "      <td>9.08</td>\n",
       "      <td>9.933046</td>\n",
       "      <td>1.745715</td>\n",
       "      <td>5.609472</td>\n",
       "      <td>medium</td>\n",
       "    </tr>\n",
       "    <tr>\n",
       "      <th>503</th>\n",
       "      <td>23899</td>\n",
       "      <td>0.061</td>\n",
       "      <td>5.73</td>\n",
       "      <td>6.98</td>\n",
       "      <td>2.17</td>\n",
       "      <td>1</td>\n",
       "      <td>27.3</td>\n",
       "      <td>21.0</td>\n",
       "      <td>5.64</td>\n",
       "      <td>10.081590</td>\n",
       "      <td>1.745715</td>\n",
       "      <td>5.609472</td>\n",
       "      <td>medium</td>\n",
       "    </tr>\n",
       "    <tr>\n",
       "      <th>504</th>\n",
       "      <td>22000</td>\n",
       "      <td>0.110</td>\n",
       "      <td>5.73</td>\n",
       "      <td>6.79</td>\n",
       "      <td>2.39</td>\n",
       "      <td>1</td>\n",
       "      <td>27.3</td>\n",
       "      <td>21.0</td>\n",
       "      <td>6.48</td>\n",
       "      <td>9.998797</td>\n",
       "      <td>1.745715</td>\n",
       "      <td>5.609472</td>\n",
       "      <td>medium</td>\n",
       "    </tr>\n",
       "    <tr>\n",
       "      <th>505</th>\n",
       "      <td>11900</td>\n",
       "      <td>0.047</td>\n",
       "      <td>5.73</td>\n",
       "      <td>6.03</td>\n",
       "      <td>2.51</td>\n",
       "      <td>1</td>\n",
       "      <td>27.3</td>\n",
       "      <td>21.0</td>\n",
       "      <td>7.88</td>\n",
       "      <td>9.384294</td>\n",
       "      <td>1.745715</td>\n",
       "      <td>5.609472</td>\n",
       "      <td>medium</td>\n",
       "    </tr>\n",
       "  </tbody>\n",
       "</table>\n",
       "<p>506 rows × 13 columns</p>\n",
       "</div>"
      ],
      "text/plain": [
       "     price  crime   nox  rooms  dist  radial  proptax  stratio  lowstat  \\\n",
       "0    24000  0.006  5.38   6.57  4.09       1     29.6     15.3     4.98   \n",
       "1    21599  0.027  4.69   6.42  4.97       2     24.2     17.8     9.14   \n",
       "2    34700  0.027  4.69   7.18  4.97       2     24.2     17.8     4.03   \n",
       "3    33400  0.032  4.58   7.00  6.06       3     22.2     18.7     2.94   \n",
       "4    36199  0.069  4.58   7.15  6.06       3     22.2     18.7     5.33   \n",
       "..     ...    ...   ...    ...   ...     ...      ...      ...      ...   \n",
       "501  22400  0.063  5.73   6.59  2.48       1     27.3     21.0     9.67   \n",
       "502  20600  0.045  5.73   6.12  2.29       1     27.3     21.0     9.08   \n",
       "503  23899  0.061  5.73   6.98  2.17       1     27.3     21.0     5.64   \n",
       "504  22000  0.110  5.73   6.79  2.39       1     27.3     21.0     6.48   \n",
       "505  11900  0.047  5.73   6.03  2.51       1     27.3     21.0     7.88   \n",
       "\n",
       "        lprice      lnox  lproptax nox_category  \n",
       "0    10.085810  1.682688  5.690360       medium  \n",
       "1     9.980402  1.545433  5.488938       medium  \n",
       "2    10.454500  1.545433  5.488938       medium  \n",
       "3    10.416310  1.521699  5.402678       medium  \n",
       "4    10.496790  1.521699  5.402678       medium  \n",
       "..         ...       ...       ...          ...  \n",
       "501  10.016820  1.745715  5.609472       medium  \n",
       "502   9.933046  1.745715  5.609472       medium  \n",
       "503  10.081590  1.745715  5.609472       medium  \n",
       "504   9.998797  1.745715  5.609472       medium  \n",
       "505   9.384294  1.745715  5.609472       medium  \n",
       "\n",
       "[506 rows x 13 columns]"
      ]
     },
     "execution_count": 3,
     "metadata": {},
     "output_type": "execute_result"
    }
   ],
   "source": [
    "df = pd.read_csv('HPRICE2.raw', sep='\\s+', header=None)\n",
    "df.columns = ['price', 'crime', 'nox', 'rooms', 'dist', 'radial', 'proptax', 'stratio', 'lowstat', 'lprice', 'lnox', 'lproptax']\n",
    "\n",
    "percentiles = df['nox'].quantile([0, 0.25, 0.75, 1.0]).tolist()\n",
    "\n",
    "df['nox_category'] = pd.cut(df['nox'], bins=percentiles, labels=['low', 'medium', 'high'])\n",
    "df"
   ]
  },
  {
   "cell_type": "markdown",
   "metadata": {},
   "source": [
    "7) Compute for each category of nox level the average median price and comment on your\n",
    "results"
   ]
  },
  {
   "cell_type": "code",
   "execution_count": 4,
   "metadata": {},
   "outputs": [
    {
     "name": "stdout",
     "output_type": "stream",
     "text": [
      "nox_category\n",
      "low       27031.244094\n",
      "medium    22741.555118\n",
      "high      17430.653226\n",
      "Name: price, dtype: float64\n"
     ]
    }
   ],
   "source": [
    "avg_price = df.groupby('nox_category')['price'].mean()\n",
    "print(avg_price)"
   ]
  },
  {
   "cell_type": "markdown",
   "metadata": {},
   "source": [
    "The average price is decreasing when nox_category level increase. So, the nox percentage has an effect on the price."
   ]
  },
  {
   "cell_type": "markdown",
   "metadata": {},
   "source": [
    "8) Produce a scatter plot with the variable price on the y-axis and the variable nox on the x-axis. Is this a ceteris paribus effect?"
   ]
  },
  {
   "cell_type": "code",
   "execution_count": 5,
   "metadata": {},
   "outputs": [
    {
     "data": {
      "image/png": "[encoded data removed]",
      "text/plain": [
       "<Figure size 640x480 with 1 Axes>"
      ]
     },
     "metadata": {},
     "output_type": "display_data"
    }
   ],
   "source": [
    "plt.scatter(df['nox'], df['price'])\n",
    "plt.xlabel('nox')\n",
    "plt.ylabel('price')\n",
    "plt.show()"
   ]
  },
  {
   "cell_type": "markdown",
   "metadata": {},
   "source": [
    "By producing a scatter plot with the variable price and the variable nox, we assume that there is a ceteris p  aribus effect.\n",
    "However the graph shows that for a same level of nox, several median housing prices are possible.\n",
    "As a conclusion, it is not a ceteris paribus effect i.e characteritics other than level of nox influence median housing prices."
   ]
  },
  {
   "cell_type": "markdown",
   "metadata": {},
   "source": [
    "9) Run a regression of price on a constant, crime, nox, rooms, proptax. Comment on the histogram of the residuals. Interpret all coefficients."
   ]
  },
  {
   "cell_type": "code",
   "execution_count": 6,
   "metadata": {},
   "outputs": [
    {
     "name": "stdout",
     "output_type": "stream",
     "text": [
      "                            OLS Regression Results                            \n",
      "==============================================================================\n",
      "Dep. Variable:                  price   R-squared:                       0.575\n",
      "Model:                            OLS   Adj. R-squared:                  0.572\n",
      "Method:                 Least Squares   F-statistic:                     169.6\n",
      "Date:                Tue, 12 Dec 2023   Prob (F-statistic):           1.06e-91\n",
      "Time:                        11:27:22   Log-Likelihood:                -5119.6\n",
      "No. Observations:                 506   AIC:                         1.025e+04\n",
      "Df Residuals:                     501   BIC:                         1.027e+04\n",
      "Df Model:                           4                                         \n",
      "Covariance Type:            nonrobust                                         \n",
      "==============================================================================\n",
      "                 coef    std err          t      P>|t|      [0.025      0.975]\n",
      "------------------------------------------------------------------------------\n",
      "constant   -1.868e+04   3215.205     -5.811      0.000    -2.5e+04   -1.24e+04\n",
      "crime       -136.5438     38.529     -3.544      0.000    -212.241     -60.846\n",
      "nox         -660.4672    314.634     -2.099      0.036   -1278.632     -42.303\n",
      "rooms       7797.9286    404.345     19.285      0.000    7003.507    8592.350\n",
      "proptax      -89.4144     23.966     -3.731      0.000    -136.500     -42.329\n",
      "==============================================================================\n",
      "Omnibus:                      264.796   Durbin-Watson:                   0.752\n",
      "Prob(Omnibus):                  0.000   Jarque-Bera (JB):             2348.397\n",
      "Skew:                           2.111   Prob(JB):                         0.00\n",
      "Kurtosis:                      12.673   Cond. No.                         546.\n",
      "==============================================================================\n",
      "\n",
      "Notes:\n",
      "[1] Standard Errors assume that the covariance matrix of the errors is correctly specified.\n"
     ]
    },
    {
     "data": {
      "image/png": "[encoded data removed]",
      "text/plain": [
       "<Figure size 640x480 with 1 Axes>"
      ]
     },
     "metadata": {},
     "output_type": "display_data"
    }
   ],
   "source": [
    "df['constant'] = 1\n",
    "X = df[['constant', 'crime', 'nox', 'rooms', 'proptax']]\n",
    "Y = df['price']\n",
    "model = sm.OLS(Y, X)\n",
    "results = model.fit()\n",
    "print(results.summary())\n",
    "residuals = results.resid\n",
    "\n",
    "plt.hist(residuals, bins='auto', alpha=0.7)\n",
    "plt.title('Histogram of Residuals')\n",
    "plt.show()\n",
    "\n"
   ]
  },
  {
   "cell_type": "markdown",
   "metadata": {},
   "source": [
    "$\\underline{\\textbf{Interpretation of all coefficient:}}$\n",
    " \n",
    "The histogram almost has a bell-shaped distribution, which suggests that the residuals are approximately normally distributed. Nonotheless, the gaussian is not centered. The range of values is [-15000, 40000] with the top of the \"bell\" reached in [-2000, O].\n",
    "\n"
   ]
  },
  {
   "cell_type": "markdown",
   "metadata": {},
   "source": [
    "$\\underline{\\textbf{Interpretation of all coefficient:}}$\n",
    "\n"
   ]
  },
  {
   "cell_type": "markdown",
   "metadata": {},
   "source": [
    "10) Run a regression of lprice on a constant, crime, nox, rooms, proptax. Comment on the histogram of the residuals. Interpret all coefficients."
   ]
  },
  {
   "cell_type": "code",
   "execution_count": 7,
   "metadata": {},
   "outputs": [
    {
     "name": "stdout",
     "output_type": "stream",
     "text": [
      "                            OLS Regression Results                            \n",
      "==============================================================================\n",
      "Dep. Variable:                 lprice   R-squared:                       0.611\n",
      "Model:                            OLS   Adj. R-squared:                  0.608\n",
      "Method:                 Least Squares   F-statistic:                     196.9\n",
      "Date:                Tue, 12 Dec 2023   Prob (F-statistic):          2.50e-101\n",
      "Time:                        11:27:22   Log-Likelihood:                -26.367\n",
      "No. Observations:                 506   AIC:                             62.73\n",
      "Df Residuals:                     501   BIC:                             83.87\n",
      "Df Model:                           4                                         \n",
      "Covariance Type:            nonrobust                                         \n",
      "==============================================================================\n",
      "                 coef    std err          t      P>|t|      [0.025      0.975]\n",
      "------------------------------------------------------------------------------\n",
      "constant       8.6550      0.137     63.320      0.000       8.386       8.924\n",
      "crime         -0.0125      0.002     -7.641      0.000      -0.016      -0.009\n",
      "nox           -0.0476      0.013     -3.557      0.000      -0.074      -0.021\n",
      "rooms          0.2816      0.017     16.379      0.000       0.248       0.315\n",
      "proptax       -0.0043      0.001     -4.184      0.000      -0.006      -0.002\n",
      "==============================================================================\n",
      "Omnibus:                      118.409   Durbin-Watson:                   0.764\n",
      "Prob(Omnibus):                  0.000   Jarque-Bera (JB):              730.140\n",
      "Skew:                           0.859   Prob(JB):                    2.83e-159\n",
      "Kurtosis:                       8.629   Cond. No.                         546.\n",
      "==============================================================================\n",
      "\n",
      "Notes:\n",
      "[1] Standard Errors assume that the covariance matrix of the errors is correctly specified.\n"
     ]
    },
    {
     "data": {
      "image/png": "[encoded data removed]",
      "text/plain": [
       "<Figure size 640x480 with 1 Axes>"
      ]
     },
     "metadata": {},
     "output_type": "display_data"
    }
   ],
   "source": [
    "df['constant'] = 1\n",
    "X = df[['constant', 'crime', 'nox', 'rooms', 'proptax']]\n",
    "Y = df['lprice']\n",
    "model = sm.OLS(Y, X)\n",
    "results = model.fit()\n",
    "print(results.summary())\n",
    "residuals = results.resid\n",
    "\n",
    "plt.hist(residuals, bins='auto', alpha=0.7)\n",
    "plt.title('Histogram of Residuals')\n",
    "plt.show()\n"
   ]
  },
  {
   "cell_type": "markdown",
   "metadata": {},
   "source": [
    "11) Run a regression of lprice on a constant, crime, lnox, rooms, lproptax. Comment on the histogram of the residuals. Interpret all coefficients."
   ]
  },
  {
   "cell_type": "code",
   "execution_count": 8,
   "metadata": {},
   "outputs": [
    {
     "name": "stdout",
     "output_type": "stream",
     "text": [
      "                            OLS Regression Results                            \n",
      "==============================================================================\n",
      "Dep. Variable:                 lprice   R-squared:                       0.612\n",
      "Model:                            OLS   Adj. R-squared:                  0.609\n",
      "Method:                 Least Squares   F-statistic:                     197.4\n",
      "Date:                Tue, 12 Dec 2023   Prob (F-statistic):          1.77e-101\n",
      "Time:                        11:27:22   Log-Likelihood:                -26.021\n",
      "No. Observations:                 506   AIC:                             62.04\n",
      "Df Residuals:                     501   BIC:                             83.18\n",
      "Df Model:                           4                                         \n",
      "Covariance Type:            nonrobust                                         \n",
      "==============================================================================\n",
      "                 coef    std err          t      P>|t|      [0.025      0.975]\n",
      "------------------------------------------------------------------------------\n",
      "constant       9.7505      0.253     38.476      0.000       9.253      10.248\n",
      "crime         -0.0128      0.002     -8.002      0.000      -0.016      -0.010\n",
      "lnox          -0.2769      0.077     -3.591      0.000      -0.428      -0.125\n",
      "rooms          0.2802      0.017     16.282      0.000       0.246       0.314\n",
      "lproptax      -0.1779      0.042     -4.215      0.000      -0.261      -0.095\n",
      "==============================================================================\n",
      "Omnibus:                      116.110   Durbin-Watson:                   0.768\n",
      "Prob(Omnibus):                  0.000   Jarque-Bera (JB):              716.737\n",
      "Skew:                           0.838   Prob(JB):                    2.30e-156\n",
      "Kurtosis:                       8.585   Cond. No.                         241.\n",
      "==============================================================================\n",
      "\n",
      "Notes:\n",
      "[1] Standard Errors assume that the covariance matrix of the errors is correctly specified.\n"
     ]
    },
    {
     "data": {
      "image/png": "[encoded data removed]",
      "text/plain": [
       "<Figure size 640x480 with 1 Axes>"
      ]
     },
     "metadata": {},
     "output_type": "display_data"
    }
   ],
   "source": [
    "df['constant'] = 1\n",
    "X = df[['constant', 'crime', 'lnox', 'rooms', 'lproptax']]\n",
    "Y = df['lprice']\n",
    "model = sm.OLS(Y, X)\n",
    "results = model.fit()\n",
    "print(results.summary())\n",
    "residuals = results.resid\n",
    "\n",
    "plt.hist(residuals, bins='auto', alpha=0.7)\n",
    "plt.title('Histogram of Residuals')\n",
    "plt.show()\n"
   ]
  },
  {
   "cell_type": "markdown",
   "metadata": {},
   "source": [
    "12) In the specification of question 10, test the hypothesis $H_0: \\beta_{nox}$ <0 vs. $H_1: \\beta_{nox}$ > 0 at the 1% level"
   ]
  },
  {
   "cell_type": "markdown",
   "metadata": {},
   "source": [
    "Let's test H0 hypothesis using Student statistique as we have seen in class."
   ]
  },
  {
   "cell_type": "code",
   "execution_count": 9,
   "metadata": {},
   "outputs": [
    {
     "name": "stdout",
     "output_type": "stream",
     "text": [
      "We accept the null hypothesis, so beta_nox < 0\n"
     ]
    }
   ],
   "source": [
    "# Fit the model\n",
    "df['constant'] = 1\n",
    "X = pd.DataFrame(np.column_stack((df['constant'], df['crime'], df['nox'], df['rooms'], df['proptax'])), \n",
    "                 columns=['constant', 'crime', 'nox', 'rooms', 'proptax'])\n",
    "Y = df['lprice']\n",
    "model = sm.OLS(Y, X)\n",
    "results = model.fit()\n",
    "\n",
    "# Get the t-statistic for 'nox'\n",
    "t_stat = results.tvalues['nox']\n",
    "\n",
    "# Get the critical value for a one-sided test at the 1% level\n",
    "critical_value = t.ppf(1-0.01, df=results.df_resid)\n",
    "\n",
    "# Check the hypothesis\n",
    "if t_stat < critical_value:\n",
    "    print(\"We accept the null hypothesis, so beta_nox < 0\")\n",
    "else:\n",
    "    print(\"We reject the null hypothesis, so beta_nox > 0\")"
   ]
  },
  {
   "cell_type": "markdown",
   "metadata": {},
   "source": [
    "13) In the specification of question 10, test the hypothesis H0: $\\beta_{nox} = 0$ vs H1: $\\beta_{nox}$ ≠ 0 at the 1% level using the p-value of the test"
   ]
  },
  {
   "cell_type": "markdown",
   "metadata": {},
   "source": [
    "Let's test H0 hypothesis with statistic of Fisher"
   ]
  },
  {
   "cell_type": "code",
   "execution_count": 10,
   "metadata": {},
   "outputs": [
    {
     "name": "stdout",
     "output_type": "stream",
     "text": [
      "p_value =  0.0004106959052555669\n",
      "Reject H0, so beta_nox != 0\n"
     ]
    }
   ],
   "source": [
    "#Calculation of the sum of squared errors of the unconstrained model.\n",
    "df['constant'] = 1\n",
    "X = np.column_stack((df['constant'], df['crime'], df['nox'], df['rooms'], df['proptax']))\n",
    "Y = df['lprice']\n",
    "model = sm.OLS(Y, X)\n",
    "results = model.fit()\n",
    "u = results.resid\n",
    "SSR0 = np.dot(u.T, u)\n",
    "\n",
    "#Calculation of the sum of squared errors of the constrained model.\n",
    "#test the hypothesis $H_0: \\beta_{nox}$ =0\n",
    "df['constant'] = 1\n",
    "X1 = np.column_stack((df['constant'], df['crime'], df['rooms'], df['proptax']))\n",
    "Y = df['lprice']\n",
    "model = sm.OLS(Y, X1)\n",
    "results = model.fit()\n",
    "u = results.resid\n",
    "SSR1 = np.dot(u.T, u)\n",
    "\n",
    "#Calculation of the Fisher statistic\n",
    "n,k=np.shape(X)\n",
    "F=((SSR1-SSR0)/1)/(SSR0/(n-k))\n",
    "p_value = f.sf(F,1,n-k)\n",
    "\n",
    "print(\"p_value = \", p_value)\n",
    "\n",
    "# Check the hypothesis\n",
    "if p_value < 0.01:\n",
    "    print(\"Reject H0, so beta_nox != 0\")\n",
    "else:\n",
    "    print(\"We accept H0, so beta_nox = 0\")\n"
   ]
  },
  {
   "cell_type": "markdown",
   "metadata": {},
   "source": [
    "14) In the specification of question 10, test the hypothesis $H_0$: $\\beta_{crime} = \\beta_{proptax}$ at the 10% level"
   ]
  },
  {
   "cell_type": "markdown",
   "metadata": {},
   "source": [
    "Let's test the null hypothesis using Fisher Statistic and the p_value has we have seen in TP $\\newline$\n",
    "\n"
   ]
  },
  {
   "cell_type": "markdown",
   "metadata": {},
   "source": [
    "Before that, we need to make few changes in the expression of H0 hypothesis and in the formulation of Y.$\\newline$\n",
    "Let $\\theta = \\beta_{crime}-\\beta_{proptax}$\n",
    "$$\n",
    "H_O \\iff (\\theta = \\beta_{crime}-\\beta_{proptax} = 0)\n",
    "$$\n",
    "So, the hypothesises we will test are\n",
    "$$\n",
    "\\boxed{H_0: {\\theta = 0} \\quad VS \\quad H_1:{\\theta \\neq 0}}\n",
    "$$\n",
    "\n",
    "To test the null hypothesis we need to change the expression of Y.\n",
    "\n",
    "$$\n",
    "Y = \\beta_0 + \\beta_{nox}*X_{nox} + \\beta_{rooms}*X_{rooms} + \\beta_{crime}*X_{crime} + \\beta_{proptax}*X_{proptax} + u\n",
    "$$\n",
    "\n",
    "So,\n",
    "$$\n",
    "\\boxed{Y =\\beta_0 + \\beta_{nox}*X_{nox} + \\beta_{rooms}*X_{rooms} + \\theta*X_{crime} + \\beta_{proptax}*(X_{proptax}+X_{crime}) + u }\n",
    "$$\n"
   ]
  },
  {
   "cell_type": "code",
   "execution_count": 11,
   "metadata": {},
   "outputs": [
    {
     "name": "stdout",
     "output_type": "stream",
     "text": [
      "p_value =  0.00032020806460918383\n",
      "Reject H0, so theta != 0 and beta_nox != beta_proptax\n"
     ]
    }
   ],
   "source": [
    "# Calculation of the sum of squared errors of the new constrained model.\n",
    "# Test the hypothesis $H_0: \\theta = 0$\n",
    "df['constant'] = 1\n",
    "X1 = np.column_stack((df['constant'], df['nox'], df['rooms'], df['proptax'] + df['crime']))\n",
    "Y = df['lprice']\n",
    "model = sm.OLS(Y, X1)\n",
    "results = model.fit()\n",
    "u = results.resid\n",
    "SSR1 = np.dot(u.T, u)\n",
    "\n",
    "# Calculation of the Fisher statistic\n",
    "n, k = np.shape(X)\n",
    "F = ((SSR1 - SSR0) / 1) / (SSR0 / (n - k))\n",
    "p_value = f.sf(F, 1, n - k)\n",
    "\n",
    "print(\"p_value = \", p_value)\n",
    "\n",
    "# Check the hypothesis\n",
    "if p_value < 0.1:\n",
    "    print(\"Reject H0, so theta != 0 and beta_nox != beta_proptax\")\n",
    "else:\n",
    "    print(\"We accept H0, so theta = 0 and beta_nox = beta_proptax\")"
   ]
  },
  {
   "cell_type": "markdown",
   "metadata": {},
   "source": [
    "15) In the specification of question 10, test the hypothesis H0: $\\beta_{nox} = 0$, $\\beta_{proptax} = 0$ at the 10% level"
   ]
  },
  {
   "cell_type": "markdown",
   "metadata": {},
   "source": [
    "Let's test the null hypothesis using Fisher Statistic and the p_value has we have seen in TP $\\newline$"
   ]
  },
  {
   "cell_type": "code",
   "execution_count": 12,
   "metadata": {},
   "outputs": [
    {
     "name": "stdout",
     "output_type": "stream",
     "text": [
      "p_value =  2.5293764225613786e-14\n",
      "Reject H0, so the assertion {beta_nox=0,beta_proptax=0} is false\n"
     ]
    }
   ],
   "source": [
    "#Calculation of the sum of squared errors of the new constrained model.\n",
    "#test the hypothesis $H_0: \\beta_{nox}$ =0\n",
    "df['constant'] = 1\n",
    "X1 = np.column_stack((df['constant'], df['crime'], df['rooms']))\n",
    "Y = df['lprice']\n",
    "model = sm.OLS(Y, X1)\n",
    "results = model.fit()\n",
    "u = results.resid\n",
    "SSR1 = np.dot(u.T, u)\n",
    "\n",
    "#Calculation of the Fisher statistic\n",
    "n,k=np.shape(X)\n",
    "F=((SSR1-SSR0)/2)/(SSR0/(n-k))\n",
    "p_value = f.sf(F,2,n-k)\n",
    "\n",
    "print(\"p_value = \", p_value)\n",
    "\n",
    "# Check the hypothesis\n",
    "if p_value < 0.1:\n",
    "    print(\"Reject H0, so the assertion {beta_nox=0,beta_proptax=0} is false\")\n",
    "else:\n",
    "    print(\"We accept H0, so{beta_nox=0,beta_proptax=0} is true\")\n"
   ]
  },
  {
   "cell_type": "markdown",
   "metadata": {},
   "source": [
    "16) In the specification of question 10, test the hypothesis H0: $\\beta_{nox}$ = -500, $\\beta_{proptax}$ = -100 at the 10% level using the p-value of the test"
   ]
  },
  {
   "cell_type": "markdown",
   "metadata": {},
   "source": [
    "Let's test the null hypothesis using Fisher Statistic and the p_value has we have seen in TP $\\newline$"
   ]
  },
  {
   "cell_type": "code",
   "execution_count": 13,
   "metadata": {},
   "outputs": [
    {
     "name": "stdout",
     "output_type": "stream",
     "text": [
      "p_value =  0.0\n",
      "Reject H0, so the assertion {beta_nox=-500,beta_proptax=-100} is false\n"
     ]
    }
   ],
   "source": [
    "#Calculation of the sum of squared errors of the new constrained model.\n",
    "#test the hypothesis $H_0: \\beta_{nox}$ =0\n",
    "df['constant'] = 1\n",
    "X1 = np.column_stack((df['constant'], df['crime'], df['rooms']))\n",
    "Y1 = df['lprice'] + 500*df['nox'] + 100*df['proptax']\n",
    "model = sm.OLS(Y1, X1)\n",
    "results = model.fit()\n",
    "u = results.resid\n",
    "SSR1 = np.dot(u.T, u)\n",
    "\n",
    "#Calculation of the Fisher statistic\n",
    "n,k=np.shape(X)\n",
    "F=((SSR1-SSR0)/2)/(SSR0/(n-k))\n",
    "p_value = f.sf(F,2,n-k)\n",
    "\n",
    "print(\"p_value = \", p_value)\n",
    "\n",
    "# Check the hypothesis\n",
    "if p_value < 0.1:\n",
    "    print(\"Reject H0, so the assertion {beta_nox=-500,beta_proptax=-100} is false\")\n",
    "else:\n",
    "    print(\"We accept H0, so {beta_nox=-500,beta_proptax=-100} is true\")\n"
   ]
  },
  {
   "cell_type": "markdown",
   "metadata": {},
   "source": [
    "17) In the specification of question 10, test the hypothesis H0: $\\beta_{nox} + \\beta_{proptax}$ = -1000 at the 10%\n",
    "level using the p-value of the test"
   ]
  },
  {
   "cell_type": "markdown",
   "metadata": {},
   "source": [
    "Let's test the null hypothesis using Fisher Statistic and the p_value has we have seen in TP $\\newline$\n",
    "\n"
   ]
  },
  {
   "cell_type": "markdown",
   "metadata": {},
   "source": [
    "Before that, we need to make few changes in the expression of H0 hypothesis and in the formulation of Y.$\\newline$\n",
    "Let $\\theta = \\beta_{nox}+\\beta_{proptax}$\n",
    "$$\n",
    "H_O \\iff (\\theta = \\beta_{nox}+\\beta_{proptax} = -1000)\n",
    "$$\n",
    "So, the hypothesises we will test are\n",
    "$$\n",
    "\\boxed{H_0: {\\theta = -1000} \\quad VS \\quad H_1:{\\theta \\neq -1000}}\n",
    "$$\n",
    "\n",
    "To test the null hypothesis we need to change the expression of Y.\n",
    "\n",
    "$$\n",
    "Y = \\beta_0 + \\beta_{nox}*X_{nox} + \\beta_{rooms}*X_{rooms} + \\beta_{crime}*X_{crime} + \\beta_{proptax}*X_{proptax} + u\n",
    "$$\n",
    "\n",
    "So,\n",
    "$$\n",
    "\\boxed{Y =\\beta_0 + \\beta_{crime}*X_{crime} + \\beta_{rooms}*X_{rooms} + \\theta*X_{nox} + \\beta_{proptax}*(X_{proptax}-X_{nox}) + u }\n",
    "$$\n"
   ]
  },
  {
   "cell_type": "code",
   "execution_count": 14,
   "metadata": {},
   "outputs": [
    {
     "name": "stdout",
     "output_type": "stream",
     "text": [
      "p_value =  0.0\n",
      "Reject H0, so theta != 0 and beta_nox + beta_proptax !=-1000\n"
     ]
    }
   ],
   "source": [
    "# Calculation of the sum of squared errors of the new constrained model.\n",
    "# Test the hypothesis $H_0: \\theta = 0$\n",
    "df['constant'] = 1\n",
    "X1 = np.column_stack((df['constant'], df['crime'], df['rooms'], df['proptax'] - df['nox']))\n",
    "Y1 = df['lprice'] + 1000*df['nox']\n",
    "model = sm.OLS(Y1, X1)\n",
    "results = model.fit()\n",
    "u = results.resid\n",
    "SSR1 = np.dot(u.T, u)\n",
    "\n",
    "# Calculation of the Fisher statistic\n",
    "n, k = np.shape(X)\n",
    "F = ((SSR1 - SSR0) / 1) / (SSR0 / (n - k))\n",
    "p_value = f.sf(F, 1, n - k)\n",
    "\n",
    "print(\"p_value = \", p_value)\n",
    "\n",
    "# Check the hypothesis\n",
    "if p_value < 0.1:\n",
    "    print(\"Reject H0, so theta != 0 and beta_nox + beta_proptax !=-1000\")\n",
    "else:\n",
    "    print(\"We accept H0, so theta = 0 and beta_nox + beta_proptax =-1000\")"
   ]
  },
  {
   "cell_type": "markdown",
   "metadata": {},
   "source": [
    "18) In the specification of question 10, test the hypothesis that all coefficients are the same for\n",
    "observations with low levels of nox vs. medium and high levels of nox."
   ]
  },
  {
   "cell_type": "markdown",
   "metadata": {},
   "source": [
    " # PART 2 - HETEROSKEDASTICITY"
   ]
  },
  {
   "cell_type": "markdown",
   "metadata": {},
   "source": [
    "20)  Explain the problem of heteroskedasticity with an example of the course."
   ]
  },
  {
   "cell_type": "markdown",
   "metadata": {},
   "source": [
    "Heteroskedasticity describes a situation where the standard deviation of the errors in a regression model is not constant across all values of the independent variable.\n",
    "\n",
    "In other words, heteroskedasticity occurs when the dispersion of errors is not the same for all observations in a regression model. This can lead to problems in statistical tests and in the efficiency of estimators of model parameters.\n",
    "\n",
    "Let's consider an example to illustrate heteroscedasticity in a linear regression model. Let's assume the following model : \n",
    "\n",
    "$y_i = \\beta_0 + \\sum_{k=1}^{K} \\beta_k x_{ik} + u_i$\n",
    "\n",
    "where:\n",
    "\n",
    "  $y_i$ is the dependent variable,\n",
    "\n",
    "  $x_{ik}$ is the k-th independent variable for observation i,\n",
    "\n",
    "  $\\beta_0$ is the intercept,\n",
    "\n",
    "  $\\beta_k$ is the coefficient for the k-th independent variable,\n",
    "  \n",
    "  $u_i$ is the error term.\n",
    "\n",
    "Now, let's introduce heteroscedasticity by assuming that the variance of the error terms $u_i$ depends on the values of the independent variables.\n",
    "\n",
    "$\\text{Var}(u_i | x_{i1}, x_{i2}, ..., x_{iK}) = \\sigma_i^2$\n",
    "\n",
    "where $\\sigma_i^2$ is the conditional variance depending on the values of the independent variables.\n",
    "\n",
    "A simple example of a heteroscedastic specification could be:\n",
    "\n",
    "$\\sigma_i^2 = x_{i1}^2 + x_{i2}^2 + ... + x_{iK}^2$\n",
    "\n",
    "In this example, the variance of errors $\\sigma_i^2$ depends on the squares of the independent variables $x_{ik}$. This could lead to an increasing dispersion of errors as the values of the independent variables increase.\n",
    "\n",
    "The complete specification of the model would then be:\n",
    "\n",
    "$y_i = \\beta_0 + \\sum_{k=1}^{K} \\beta_k x_{ik} + u_i$\n",
    "\n",
    "$\\text{Var}(u_i | x_{i1}, x_{i2}, ..., x_{iK}) = x_{i1}^2 + x_{i2}^2 + ... + x_{iK}^2$\n"
   ]
  },
  {
   "cell_type": "markdown",
   "metadata": {},
   "source": [
    "21) Suppose that Euu' = $\\sigma^2*\\Omega$. Show that the GLS estimator is the best linear unbiased estimator."
   ]
  },
  {
   "cell_type": "markdown",
   "metadata": {},
   "source": [
    "Let's $\\hat\\beta_{GLS} = (X'\\Omega^{-1}X)^{-1}X'\\Omega^{-1}Y$\n",
    "\n",
    "With $Y =X\\beta + u$"
   ]
  },
  {
   "cell_type": "markdown",
   "metadata": {},
   "source": [
    "The Generalized Least Squares (GLS) estimator is considered the Best Linear Unbiased Estimator (BLUE) under the assumption of heteroskedasticity or correlation among the error terms. Here's why:\n",
    "\n",
    "1. **Linearity**: The GLS estimator is a linear function of the dependent variable Y. (Obviously)\n",
    "\n",
    "2. **Unbiasedness**: The expectation of the GLS estimator is equal to the true parameter value.\n",
    "\n",
    "$$\n",
    "\\mathbb{E}(\\hat\\beta_{GLS})= \\mathbb{E}((X'\\Omega^{-1}X)^{-1}X'\\Omega^{-1}Y)= (X'\\Omega^{-1}X)^{-1}X'\\Omega^{-1}\\mathbb{E}(Y)\n",
    "$$\n",
    "$$\n",
    "(X'\\Omega^{-1}X)^{-1}X'\\Omega^{-1}\\mathbb{E}(X\\beta+u) = (X'\\Omega^{-1}X)^{-1}X'\\Omega^{-1}X\\mathbb{E}(\\beta)\n",
    "$$\n",
    "\n",
    "$$\n",
    "\\boxed{\\text{As a consequence } \\mathbb{E}(\\hat\\beta_{GLS})=\\beta }\n",
    "$$\n",
    "\n",
    "3. **Efficiency**: Among all linear unbiased estimators, the GLS estimator has the smallest variance.\n"
   ]
  },
  {
   "cell_type": "markdown",
   "metadata": {},
   "source": [
    "22. In the specification of question 9 (not 10), test the hypothesis of no heteroskedasticity of linear form, i.e. in the regression of $u^2$ on constant, crime, nox, rooms, proptax, test H0: $\\delta_{crime}, \\delta_{nox}, \\delta_{room}, \\delta_{proptax} = 0$, where the coefficients $\\delta_{k}$ (k = crime, nox, rooms, proptax) are associated with the corresponding explanatory variables."
   ]
  },
  {
   "cell_type": "markdown",
   "metadata": {},
   "source": [
    "***We make a test at 5% ***"
   ]
  },
  {
   "cell_type": "code",
   "execution_count": 22,
   "metadata": {},
   "outputs": [
    {
     "name": "stdout",
     "output_type": "stream",
     "text": [
      "Reject H0, so the null hypothesis is false: there is heteroskedasticity\n"
     ]
    }
   ],
   "source": [
    "#Calcul of u2\n",
    "df['constant'] = 1\n",
    "X = np.column_stack((df['constant'], df['crime'], df['nox'], df['rooms'], df['proptax']))\n",
    "Y = df['price']\n",
    "\n",
    "model = sm.OLS(Y, X)\n",
    "results = model.fit()\n",
    "u = results.resid\n",
    "u2 = u**2\n",
    "y = u2\n",
    "\n",
    "#Calcul of the F-statistic with R-squared\n",
    "second_model = sm.OLS(y, X)\n",
    "results2 = second_model.fit()\n",
    "R2_1 = results2.rsquared\n",
    "\n",
    "n, k = X.shape\n",
    "F = (R2_1 / k) / ((1 - R2_1) / (n - k - 1))\n",
    "p_value = f.sf(F, k, n - k - 1)\n",
    "\n",
    "#Check the hypothesis\n",
    "\n",
    "if p_value < 0.05:\n",
    "    print(\"Reject H0, so the null hypothesis is false: there is heteroskedasticity\")\n",
    "else:\n",
    "    print(\"We accept H0, so the null hypothesis is true: there is no heteroskedasticity\")\n",
    "\n"
   ]
  },
  {
   "cell_type": "markdown",
   "metadata": {},
   "source": [
    "23) In the specification of question 10 (not 11), test the hypothesis of no heteroskedasticity of linear form"
   ]
  },
  {
   "cell_type": "code",
   "execution_count": 23,
   "metadata": {},
   "outputs": [
    {
     "name": "stdout",
     "output_type": "stream",
     "text": [
      "Reject H0, so the null hypothesis is false: there is heteroskedasticity\n"
     ]
    }
   ],
   "source": [
    "df['constant'] = 1\n",
    "X = np.column_stack((df['constant'], df['crime'], df['nox'], df['rooms'], df['proptax']))\n",
    "Y = df['lprice']\n",
    "\n",
    "model = sm.OLS(Y, X)\n",
    "results = model.fit()\n",
    "u = results.resid\n",
    "u2 = u**2\n",
    "y = u2\n",
    "\n",
    "#Calcul of the F-statistic with R-squared\n",
    "second_model = sm.OLS(y, X)\n",
    "results2 = second_model.fit()\n",
    "R2_1 = results2.rsquared\n",
    "\n",
    "n, k = X.shape\n",
    "F = (R2_1 / k) / ((1 - R2_1) / (n - k - 1))\n",
    "p_value = f.sf(F, k, n - k - 1)\n",
    "\n",
    "#Check the hypothesis\n",
    "\n",
    "if p_value < 0.05:\n",
    "    print(\"Reject H0, so the null hypothesis is false: there is heteroskedasticity\")\n",
    "else:\n",
    "    print(\"We accept H0, so the null hypothesis is true: there is no heteroskedasticity\")"
   ]
  },
  {
   "cell_type": "markdown",
   "metadata": {},
   "source": [
    "24) In the specification of question 11 (not 12), test the hypothesis of no heteroskedasticity of linear form"
   ]
  },
  {
   "cell_type": "code",
   "execution_count": 24,
   "metadata": {},
   "outputs": [
    {
     "name": "stdout",
     "output_type": "stream",
     "text": [
      "Reject H0, so the null hypothesis is false: there is heteroskedasticity\n"
     ]
    }
   ],
   "source": [
    "df['constant'] = 1\n",
    "X = np.column_stack((df['constant'], df['crime'], df['lnox'], df['rooms'], df['lproptax']))\n",
    "Y = df['lprice']\n",
    "\n",
    "model = sm.OLS(Y, X)\n",
    "results = model.fit()\n",
    "u = results.resid\n",
    "u2 = u**2\n",
    "y = u2\n",
    "\n",
    "#Calcul of the F-statistic with R-squared\n",
    "second_model = sm.OLS(y, X)\n",
    "results2 = second_model.fit()\n",
    "R2_1 = results2.rsquared\n",
    "\n",
    "n, k = X.shape\n",
    "F = (R2_1 / k) / ((1 - R2_1) / (n - k - 1))\n",
    "p_value = f.sf(F, k, n - k - 1)\n",
    "\n",
    "#Check the hypothesis\n",
    "\n",
    "if p_value < 0.05:\n",
    "    print(\"Reject H0, so the null hypothesis is false: there is heteroskedasticity\")\n",
    "else:\n",
    "    print(\"We accept H0, so the null hypothesis is true: there is no heteroskedasticity\")"
   ]
  },
  {
   "cell_type": "markdown",
   "metadata": {},
   "source": [
    "25) Comment on the differences between your results of questions 22,23, 24."
   ]
  },
  {
   "cell_type": "markdown",
   "metadata": {},
   "source": []
  },
  {
   "cell_type": "markdown",
   "metadata": {},
   "source": [
    "26) Regardless of the results of the test of question 22, identify the most significant variable causing heteroskedasticity using the student statistics and run a WLS regression with the identified variable as weight."
   ]
  },
  {
   "cell_type": "code",
   "execution_count": 21,
   "metadata": {},
   "outputs": [
    {
     "name": "stdout",
     "output_type": "stream",
     "text": [
      "                            OLS Regression Results                            \n",
      "==============================================================================\n",
      "Dep. Variable:                      y   R-squared:                       0.051\n",
      "Model:                            OLS   Adj. R-squared:                  0.044\n",
      "Method:                 Least Squares   F-statistic:                     6.799\n",
      "Date:                Sun, 10 Dec 2023   Prob (F-statistic):           2.47e-05\n",
      "Time:                        18:32:32   Log-Likelihood:                -10130.\n",
      "No. Observations:                 506   AIC:                         2.027e+04\n",
      "Df Residuals:                     501   BIC:                         2.029e+04\n",
      "Df Model:                           4                                         \n",
      "Covariance Type:            nonrobust                                         \n",
      "==============================================================================\n",
      "                 coef    std err          t      P>|t|      [0.025      0.975]\n",
      "------------------------------------------------------------------------------\n",
      "const      -5.885e+07   6.41e+07     -0.917      0.359   -1.85e+08    6.72e+07\n",
      "x1         -9.687e+05   7.69e+05     -1.260      0.208   -2.48e+06    5.42e+05\n",
      "x2          9.091e+05   6.28e+06      0.145      0.885   -1.14e+07    1.32e+07\n",
      "x3           2.63e+06   8.07e+06      0.326      0.745   -1.32e+07    1.85e+07\n",
      "x4           1.88e+06   4.78e+05      3.931      0.000     9.4e+05    2.82e+06\n",
      "==============================================================================\n",
      "Omnibus:                      760.905   Durbin-Watson:                   0.777\n",
      "Prob(Omnibus):                  0.000   Jarque-Bera (JB):           159893.659\n",
      "Skew:                           8.299   Prob(JB):                         0.00\n",
      "Kurtosis:                      88.489   Cond. No.                         546.\n",
      "==============================================================================\n",
      "\n",
      "Notes:\n",
      "[1] Standard Errors assume that the covariance matrix of the errors is correctly specified.\n",
      "proptax\n",
      "                            WLS Regression Results                            \n",
      "==============================================================================\n",
      "Dep. Variable:                  price   R-squared:                       0.520\n",
      "Model:                            WLS   Adj. R-squared:                  0.517\n",
      "Method:                 Least Squares   F-statistic:                     135.9\n",
      "Date:                Sun, 10 Dec 2023   Prob (F-statistic):           1.47e-78\n",
      "Time:                        18:32:32   Log-Likelihood:                -5157.1\n",
      "No. Observations:                 506   AIC:                         1.032e+04\n",
      "Df Residuals:                     501   BIC:                         1.035e+04\n",
      "Df Model:                           4                                         \n",
      "Covariance Type:            nonrobust                                         \n",
      "==============================================================================\n",
      "                 coef    std err          t      P>|t|      [0.025      0.975]\n",
      "------------------------------------------------------------------------------\n",
      "const      -1.176e+04   3406.181     -3.453      0.001   -1.85e+04   -5069.908\n",
      "x1          -146.7768     36.262     -4.048      0.000    -218.022     -75.532\n",
      "x2          -878.5357    334.606     -2.626      0.009   -1535.940    -221.132\n",
      "x3          6856.6553    429.941     15.948      0.000    6011.945    7701.366\n",
      "x4           -84.0008     24.612     -3.413      0.001    -132.356     -35.646\n",
      "==============================================================================\n",
      "Omnibus:                      302.717   Durbin-Watson:                   0.709\n",
      "Prob(Omnibus):                  0.000   Jarque-Bera (JB):             3469.174\n",
      "Skew:                           2.413   Prob(JB):                         0.00\n",
      "Kurtosis:                      14.885   Cond. No.                         585.\n",
      "==============================================================================\n",
      "\n",
      "Notes:\n",
      "[1] Standard Errors assume that the covariance matrix of the errors is correctly specified.\n"
     ]
    }
   ],
   "source": [
    "columns = ['constant', 'crime', 'nox', 'rooms', 'proptax']\n",
    "df['constant'] = 1\n",
    "X = np.column_stack((df['constant'], df['crime'], df['nox'], df['rooms'], df['proptax']))\n",
    "Y = df['price']\n",
    "\n",
    "model = sm.OLS(Y, X)\n",
    "results = model.fit()\n",
    "u = results.resid\n",
    "u2 = u**2\n",
    "y = u2\n",
    "\n",
    "second_model = sm.OLS(y, X)\n",
    "results = second_model.fit()\n",
    "print(results.summary())\n",
    "\n",
    "tvalues_abs = np.abs(results.tvalues)\n",
    "max_tvalue_index = np.argmax(tvalues_abs)\n",
    "significant_variable = columns[max_tvalue_index]\n",
    "print(significant_variable)\n",
    "\n",
    "weights = np.sqrt(df[significant_variable])\n",
    "model_wls = sm.WLS(Y, X, weights=weights)\n",
    "results_wls = model_wls.fit()\n",
    "print(results_wls.summary())\n"
   ]
  },
  {
   "cell_type": "markdown",
   "metadata": {},
   "source": [
    "# PART 3 - TIME SERIES DATA"
   ]
  },
  {
   "cell_type": "code",
   "execution_count": 8,
   "metadata": {},
   "outputs": [
    {
     "name": "stdout",
     "output_type": "stream",
     "text": [
      "           realGDP unemployment_rate consumer_price_inflation\n",
      "0    181160.264436          3.679865                 4.058273\n",
      "1    184974.529384          4.877351                     -0.3\n",
      "2    187756.550527          5.145694                        0\n",
      "3     186015.76815          5.603507                  1.10331\n",
      "4    188155.559259          6.914821                -0.396825\n",
      "..             ...               ...                      ...\n",
      "96         1243709          8.097052                 2.400308\n",
      "97         1282602          6.972014                 1.824606\n",
      "98         1323527          6.255467                 1.557398\n",
      "99         1366983          5.976813                  1.32871\n",
      "100        1418176          5.459049                 0.796456\n",
      "\n",
      "[101 rows x 3 columns]\n"
     ]
    }
   ],
   "source": [
    "df = pd.read_excel(\n",
    "    \"threecenturies_v2.3.xlsx\",\n",
    "    sheet_name=\"A1. Headline series\",\n",
    "    usecols=[1, 15, 28],\n",
    ")\n",
    "\n",
    "realGDP = df.iloc[246:347, 0].reset_index(drop=True)\n",
    "unemployment_rate = df.iloc[246:347, 1].reset_index(drop=True)\n",
    "consumer_price_inflation = df.iloc[246:347, 2].reset_index(drop=True)\n",
    "\n",
    "df = pd.DataFrame(\n",
    "    {\"realGDP\": realGDP, \"unemployment_rate\": unemployment_rate, \"consumer_price_inflation\": consumer_price_inflation}\n",
    ")\n",
    "print (df)"
   ]
  },
  {
   "cell_type": "markdown",
   "metadata": {},
   "source": [
    "27) Define strict and weak stationarity."
   ]
  },
  {
   "cell_type": "markdown",
   "metadata": {},
   "source": [
    "***Strict stationarity*** the joint distribution of (ys+1, ys+2, …, ys+T) does not depend on s; the future and the past resemble each other.\n",
    "\n",
    "***Weak stationarity*** (or weak-sense stationarity) requires that only the mean, variance, and autocorrelation structure remain constant over time.\n",
    "cov(x_t,x_{t+h}) only depends on h, the time difference (not on the specific values of t and t+k.)"
   ]
  },
  {
   "cell_type": "markdown",
   "metadata": {},
   "source": [
    "28) Explain ergodicity and state the ergodic theorem. Illustrate with an example."
   ]
  },
  {
   "cell_type": "markdown",
   "metadata": {},
   "source": [
    "***Ergodicity*** There is ergodicity when the process forgets the initial conditions: the autocorrelation of order k tends toward 0 as k approaches infinity.\n",
    "\n",
    "***Ergodic theorem***  If {$y_t$} is strictly stationary and ergodic, and $\\mathbb{E}(y_t) <\\infty$ as $T \\to \\infty$, then the time average converges to the spatial average (Expectation).\n",
    "$$\\lim_{{T \\to \\infty}} \\frac{1}{T} \\sum_{{t=1}}^{T} y_t = \\mathbb{E}[y_t]\n",
    "$$\n",
    "\n",
    "***Exemple*** \n",
    "Consider a fair six-sided die. Each time you roll the die, you obtain a random outcome between 1 and 6. Now, imagine rolling the die repeatedly and recording the outcomes. The process is ergodic because, over a large number of rolls, the average value of the outcomes will converge to the expected value of a single roll, which is $(\\frac{1+2+3+4+5+6}{6} = 3.5)$. This illustrates the convergence of time average to ensemble average in an ergodic system.\n"
   ]
  },
  {
   "cell_type": "markdown",
   "metadata": {},
   "source": [
    "29) Why do we need both stationarity and ergodicity?"
   ]
  },
  {
   "cell_type": "markdown",
   "metadata": {},
   "source": [
    "TO ENSURE that our sample mean is a good approximation of the real mean"
   ]
  },
  {
   "cell_type": "markdown",
   "metadata": {},
   "source": [
    "30) Explain “spurious regression”."
   ]
  },
  {
   "cell_type": "markdown",
   "metadata": {},
   "source": [
    "Spurious correlation occurs when there is a statistically significant correlation between two variables, not because of a causal relationship, but possibly due to their dependence on an unobserved factor.\n",
    "\n",
    "Let's take an example in a cross-sectional environment. If we perform a regression of variable y on x, we may find a significant relationship. However, when we introduce another variable, such as z, and control for it, the partial effect of x on y diminishes to zero.\n",
    "\n",
    "This leads to the formulation of the spurious regression problem: an issue emerges in regression analysis when it falsely suggests a connection between two or more unrelated time series processes due to the presence of trends in each, being integrated time series (like a random walk), or a combination of both."
   ]
  },
  {
   "cell_type": "markdown",
   "metadata": {},
   "source": [
    "31) Define a moving average and explain the trade-off involved in the choice of the size of the window and of whether to center or not the moving average."
   ]
  },
  {
   "cell_type": "markdown",
   "metadata": {},
   "source": [
    "A moving average is a statistical method used to analyze data points over a defined period by calculating a series of averages of different subsets of the complete dataset. It is used to smooth out short-term fluctuations and highlight longer-term trends in time series.\n",
    "\n",
    "Trade-off involved in the choice of the size of the window : \n",
    "\n",
    "A larger window results in smoother averages, reducing sensitivity to short-term fluctuations but potentially delaying the identification of recent changes. A smaller window provides a more responsive moving average but may introduce more variability.\n",
    "\n",
    "Trade-off involved in the choice of wether to center or not the moving average : \n",
    "\n",
    "A centered average uses an equal number of observations on each side of the target point, providing a balanced view. In contrast, a non-centered average, with an odd number of observations, may be more responsive to recent changes but introduces bias by giving unequal weight to certain observations."
   ]
  },
  {
   "cell_type": "markdown",
   "metadata": {},
   "source": [
    "32) Make all time series stationary by computing the difference between the original variable and a moving average of order 10."
   ]
  },
  {
   "cell_type": "code",
   "execution_count": 27,
   "metadata": {},
   "outputs": [],
   "source": [
    "#Compute the moving averages\n",
    "df[\"realGDP_MA_10\"] = df[\"realGDP\"].rolling(window=10).mean()\n",
    "df[\"unemployment_MA_10\"] = df[\"unemployment_rate\"].rolling(window=10).mean()\n",
    "df[\"inflation_MA_10\"] = df[\"consumer_price_inflation\"].rolling(window=10).mean()\n",
    "\n",
    "#Compute the differences\n",
    "df[\"realGDP_stationary_10\"] = df[\"realGDP\"] - df[\"realGDP_MA_10\"]\n",
    "df[\"unemployment_stationary_10\"] = df[\"unemployment_rate\"] - df[\"unemployment_MA_10\"]\n",
    "df[\"inflation_stationary_10\"] = df[\"consumer_price_inflation\"] - df[\"inflation_MA_10\"]"
   ]
  },
  {
   "cell_type": "markdown",
   "metadata": {},
   "source": [
    "33) Compute the difference between the resulting time series of question 32 and a moving average of order 5. Give the exact formula for the weights after the two transformations."
   ]
  },
  {
   "cell_type": "code",
   "execution_count": 31,
   "metadata": {},
   "outputs": [
    {
     "name": "stdout",
     "output_type": "stream",
     "text": [
      "Weights for the first transformation:  [ 1.  -0.1 -0.1 -0.1 -0.1 -0.1 -0.1 -0.1 -0.1 -0.1 -0.1]\n",
      "Weights for the second transformation:  [ 1.  -0.2 -0.2 -0.2 -0.2 -0.2]\n"
     ]
    }
   ],
   "source": [
    "df['realGDP_MA_5'] = df['realGDP_stationary_10'].rolling(window=5).mean()\n",
    "df['unemployment_MA_5'] = df['unemployment_stationary_10'].rolling(window=5).mean()\n",
    "df['inflation_MA_5'] = df['inflation_stationary_10'].rolling(window=5).mean()  \n",
    "\n",
    "df['realGDP_stationary_5'] = df['realGDP_stationary_10'] - df['realGDP_MA_5']\n",
    "df['unemployment_stationary_5'] = df['unemployment_stationary_10'] - df['unemployment_MA_5']\n",
    "df['inflation_stationary_5'] = df['inflation_stationary_10'] - df['inflation_MA_5']"
   ]
  },
  {
   "cell_type": "markdown",
   "metadata": {},
   "source": [
    "Let's $(T)_t$ be the original time serie $\\newline$\n",
    "And $(X)_t$ the final time serie we obtain at the end of all transformations.$\\newline$\n",
    "At the end, we have the relation:\n",
    "\n",
    "$$X_t = \\left( T_t - \\frac{1}{10} \\sum_{i=0}^{9} T_{t-i} \\right) - \\frac{1}{5} \\sum_{i=0}^{4} \\left( T_{t-k} - \\frac{1}{10} \\sum_{j=0}^{9} T_{t-i-k} \\right)$$\n",
    "\n",
    "$$ =  T_t - \\sum_{i=0}^{4} (\\frac{1}{10} + \\frac{1}{5})T_{t-i}  -  \\sum_{i=5}^{9} \\frac{1}{10} T_{t-i} +  \\sum_{i=0}^{4} \\sum_{j=0}^{9} \\frac{1}{50}T_{t-i-k} $$\n",
    "\n",
    "So,\n",
    "\n",
    "$$\n",
    "\\boxed{X_t = \\frac{18}{25}T_t - \\frac{13}{50}T_{t-1} - \\frac{6}{25}T_{t-2} - \\frac{11}{50}T_{t-3}- \\frac{1}{5}T_{t-4} +     \\frac{2}{25}T_{t-10} + \\frac{3}{50}T_{t-11} + \\frac{1}{25}T_{t-11} + \\frac{1}{50}T_{t-12}}\n",
    "$$\n",
    "\n",
    "Let's W be the vector of weight Which is sush that $X_t = W*(Y_t)'$, with $Y_t = [X_t, X_{t-1}, ...,X_{t-12}]'$\n",
    "after the two transformations :\n",
    "$$\n",
    "\\boxed{W = [\\frac{18}{25}, -\\frac{13}{50}, -\\frac{6}{25}, -\\frac{11}{50}, -\\frac{1}{5}, 0, 0, 0, 0, 0, \\frac{2}{25}, \\frac{3}{50} + \\frac{1}{25}, \\frac{1}{50}]}\n",
    "$$\n"
   ]
  },
  {
   "cell_type": "markdown",
   "metadata": {},
   "source": [
    "34) Using the original dataset, test the unit root hypothesis for all variables."
   ]
  },
  {
   "cell_type": "code",
   "execution_count": 32,
   "metadata": {},
   "outputs": [
    {
     "name": "stdout",
     "output_type": "stream",
     "text": [
      "realGDP\n",
      "ADF Statistic for realGDP: 4.334307365243231\n",
      "p-value: 1.0\n",
      "We accept the unit root hypothesis, so the series is not stationary\n",
      "---------------------------\n",
      "unemployment_rate\n",
      "ADF Statistic for unemployment_rate: -2.3632029316185594\n",
      "p-value: 0.15239250945749505\n",
      "We accept the unit root hypothesis, so the series is not stationary\n",
      "---------------------------\n",
      "consumer_price_inflation\n",
      "ADF Statistic for consumer_price_inflation: -4.0503591672558334\n",
      "p-value: 0.001168599408868895\n",
      "Reject the unit root hypothesis, so the series is stationary\n",
      "---------------------------\n"
     ]
    }
   ],
   "source": [
    "variables = ['realGDP', 'unemployment_rate', 'consumer_price_inflation']   \n",
    "\n",
    "for var in variables:\n",
    "    result = adfuller(df[var])\n",
    "    print (var)\n",
    "    print(f'ADF Statistic for {var}: {result[0]}')\n",
    "    print(f'p-value: {result[1]}')\n",
    "    if result[1] < 0.05:\n",
    "        print(\"Reject the unit root hypothesis, so the series is stationary\")\n",
    "    else:\n",
    "        print(\"We accept the unit root hypothesis, so the series is not stationary\")\n",
    "    print('---------------------------')"
   ]
  },
  {
   "cell_type": "markdown",
   "metadata": {},
   "source": [
    "35) Transform all variables so that they are stationary using either your answers to questions 32-33 or to question 34."
   ]
  },
  {
   "cell_type": "code",
   "execution_count": 33,
   "metadata": {},
   "outputs": [
    {
     "name": "stdout",
     "output_type": "stream",
     "text": [
      "realGDP_stationary_10\n",
      "ADF Statistic for realGDP_stationary_10: 0.3192341928243904\n",
      "p-value: 0.9782099331829892\n",
      "We accept the unit root hypothesis, so the series is not stationary\n",
      "---------------------------\n",
      "unemployment_stationary_10\n",
      "ADF Statistic for unemployment_stationary_10: -3.0790508245352575\n",
      "p-value: 0.02814286907190101\n",
      "Reject the unit root hypothesis, so the series is stationary\n",
      "---------------------------\n",
      "realGDP_stationary_5\n",
      "ADF Statistic for realGDP_stationary_5: -5.787467810522686\n",
      "p-value: 4.960809331820286e-07\n",
      "Reject the unit root hypothesis, so the series is stationary\n",
      "-------------------------------------------------------------------------------------------------------\n",
      "consumer_price_inflation is stationary\n",
      "unemployment_rate is stationary after one transformation\n",
      "realGDP is stationary after two transformations\n"
     ]
    }
   ],
   "source": [
    "for var in ['realGDP_stationary_10', 'unemployment_stationary_10']:\n",
    "    result = adfuller(df[var].dropna())\n",
    "    print (var)\n",
    "    print(f'ADF Statistic for {var}: {result[0]}')\n",
    "    print(f'p-value: {result[1]}')\n",
    "    if result[1] < 0.05:\n",
    "        print(\"Reject the unit root hypothesis, so the series is stationary\")\n",
    "    else:\n",
    "        print(\"We accept the unit root hypothesis, so the series is not stationary\")\n",
    "    print('---------------------------')\n",
    "\n",
    "\n",
    "result = adfuller(df['realGDP_stationary_5'].dropna())\n",
    "print ('realGDP_stationary_5')\n",
    "print(f'ADF Statistic for realGDP_stationary_5: {result[0]}')\n",
    "print(f'p-value: {result[1]}')\n",
    "if result[1] < 0.05:\n",
    "    print(\"Reject the unit root hypothesis, so the series is stationary\")\n",
    "else:\n",
    "    print(\"We accept the unit root hypothesis, so the series is not stationary\")\n",
    "\n",
    "print('-------------------------------------------------------------------------------------------------------')\n",
    "print('consumer_price_inflation is stationary')\n",
    "print('unemployment_rate is stationary after one transformation')\n",
    "print('realGDP is stationary after two transformations')"
   ]
  },
  {
   "cell_type": "markdown",
   "metadata": {},
   "source": [
    "36) Explain the difference between ACF and PACF."
   ]
  },
  {
   "cell_type": "markdown",
   "metadata": {},
   "source": [
    "The ACF quantifies the correlation between a time series and its own past values at different time lags. The PACF also assesses the correlation between a time series observation and its past values.\n",
    "\n",
    "The big difference is that ACF measures the overall correlation, including both direct and indirect influences of past observations; whereas PACF focuses exclusively on the direct correlation, removing the influence of intermediate observations to isolate the unique contribution of each lag."
   ]
  },
  {
   "cell_type": "markdown",
   "metadata": {},
   "source": [
    "37) Plot and comment on the ACF and PACF of all variables."
   ]
  },
  {
   "cell_type": "code",
   "execution_count": 35,
   "metadata": {},
   "outputs": [
    {
     "name": "stdout",
     "output_type": "stream",
     "text": [
      "ACF for realGDP: [1.         0.96049378 0.92228356 0.8855185  0.85021983 0.81639742\n",
      " 0.78331127 0.75092916 0.7205954  0.69090771 0.66009677 0.62672223\n",
      " 0.59230687 0.55830629 0.52750913 0.49934662 0.47227492 0.44671245\n",
      " 0.4213243  0.39761013 0.37361842]\n",
      "PACF for realGDP: [ 1.00000000e+00  9.70098722e-01 -2.98743439e-03  2.79560153e-04\n",
      "  1.57776168e-03  2.77549211e-03 -9.47501704e-03 -1.00339236e-02\n",
      "  1.46692216e-02 -9.42598310e-03 -4.27640421e-02 -7.31817167e-02\n",
      " -4.98575279e-02 -2.57909334e-02  2.85264296e-02  2.31369968e-02\n",
      " -3.64250637e-03  4.92848715e-03 -2.23386937e-02  9.67789630e-03\n",
      " -2.63986723e-02]\n"
     ]
    },
    {
     "data": {
      "image/png": "[encoded data removed]",
      "text/plain": [
       "<Figure size 640x480 with 1 Axes>"
      ]
     },
     "metadata": {},
     "output_type": "display_data"
    },
    {
     "data": {
      "image/png": "[encoded data removed]",
      "text/plain": [
       "<Figure size 640x480 with 1 Axes>"
      ]
     },
     "metadata": {},
     "output_type": "display_data"
    },
    {
     "name": "stdout",
     "output_type": "stream",
     "text": [
      "ACF for unemployment_rate: [ 1.          0.91920226  0.81728021  0.70699301  0.61269247  0.52121887\n",
      "  0.42083932  0.34773318  0.27824269  0.23037079  0.17807704  0.10746165\n",
      "  0.04148977 -0.03121945 -0.11068643 -0.17693088 -0.21843223 -0.24195072\n",
      " -0.28468944 -0.30509263 -0.30355313]\n",
      "PACF for unemployment_rate: [ 1.          0.92839429 -0.20368049 -0.10593922  0.06807099 -0.07774922\n",
      " -0.16041665  0.18712545 -0.09842372  0.06250193 -0.08293592 -0.23801473\n",
      "  0.02536266 -0.11087909 -0.25769472  0.19556152  0.08922351 -0.13813796\n",
      " -0.23894104  0.24058435  0.07026809]\n"
     ]
    },
    {
     "data": {
      "image/png": "[encoded data removed]",
      "text/plain": [
       "<Figure size 640x480 with 1 Axes>"
      ]
     },
     "metadata": {},
     "output_type": "display_data"
    },
    {
     "data": {
      "image/png": "[encoded data removed]",
      "text/plain": [
       "<Figure size 640x480 with 1 Axes>"
      ]
     },
     "metadata": {},
     "output_type": "display_data"
    },
    {
     "name": "stdout",
     "output_type": "stream",
     "text": [
      "ACF for consumer_price_inflation: [ 1.          0.75405159  0.49782258  0.30101533  0.13768624  0.0559268\n",
      " -0.01790011 -0.03995142 -0.02182155 -0.04771179 -0.04975765 -0.08940791\n",
      " -0.13884879 -0.19102658 -0.19996465 -0.18645712 -0.17518612 -0.15272458\n",
      " -0.16831297 -0.14175784 -0.02412686]\n",
      "PACF for consumer_price_inflation: [ 1.          0.76159211 -0.1717781  -0.02989668 -0.08701934  0.05736326\n",
      " -0.09826216  0.06118378  0.03216187 -0.11493001  0.03722441 -0.13290773\n",
      " -0.05261354 -0.12553242  0.06957567 -0.06796883 -0.04148592 -0.01494311\n",
      " -0.16802198  0.1061492   0.22974195]\n"
     ]
    },
    {
     "data": {
      "image/png": "[encoded data removed]",
      "text/plain": [
       "<Figure size 640x480 with 1 Axes>"
      ]
     },
     "metadata": {},
     "output_type": "display_data"
    },
    {
     "data": {
      "image/png": "[encoded data removed]",
      "text/plain": [
       "<Figure size 640x480 with 1 Axes>"
      ]
     },
     "metadata": {},
     "output_type": "display_data"
    }
   ],
   "source": [
    "variables = ['realGDP', 'unemployment_rate', 'consumer_price_inflation']\n",
    "for var in variables:\n",
    "    series = df[var].dropna()\n",
    "    print(f'ACF for {var}: {acf(series)}')\n",
    "    print(f'PACF for {var}: {pacf(series)}')\n",
    "\n",
    "    plot_acf(series, title=f'ACF for {var}')\n",
    "    plt.show()\n",
    "    plot_pacf(series, title=f'PACF for {var}')\n",
    "    plt.show()"
   ]
  },
  {
   "cell_type": "markdown",
   "metadata": {},
   "source": [
    "38) Explain the principle of parsimony and its relationship with Ockham’s razor using the theory of information criterion."
   ]
  },
  {
   "cell_type": "markdown",
   "metadata": {},
   "source": [
    "sol1: Parsimonious Model: A model with as few parameters as possible for capturing any desired features.\n",
    "\n",
    "sol2 : \n",
    "\n",
    "The principle of parsimony, also known as Occam's razor, is a philosophical and scientific principle that suggests that among competing hypotheses or explanations, the simplest one is often the best. In other words, when faced with multiple explanations that account for the same observations, the one that requires the fewest assumptions is generally preferred. Simplicity, elegance, and economy in explanation are considered virtues in scientific reasoning.\n",
    "\n",
    "Ockham's razor, named after the medieval philosopher William of Ockham, is a specific formulation of the principle of parsimony. It states, \"Entities should not be multiplied without necessity.\" This means that one should not introduce more assumptions, variables, or complexities into a theory than are absolutely needed to explain the observed phenomena.\n",
    "\n",
    "In the context of statistical modeling and model selection, the principle of parsimony is closely related to information criteria. Information criteria are statistical measures used to assess the quality of different models. They balance the goodness of fit of a model with its complexity, penalizing models that are too complex.\n",
    "\n",
    "Two commonly used information criteria are:\n",
    "\n",
    "    Akaike Information Criterion (AIC):\n",
    "        AIC balances the fit of the model (capturing the data well) with its complexity.\n",
    "        A lower AIC value indicates a better trade-off between goodness of fit and simplicity.\n",
    "        AIC = -2 * log-likelihood + 2 * number of parameters.\n",
    "\n",
    "    Bayesian Information Criterion (BIC):\n",
    "        Similar to AIC but places a stronger penalty on models with more parameters.\n",
    "        BIC = -2 * log-likelihood + log(sample size) * number of parameters.\n",
    "\n",
    "Application:\n",
    "\n",
    "    When comparing different models using information criteria, the principle of parsimony is implicitly applied.\n",
    "    The model with the lowest AIC or BIC is favored because it achieves a good fit while penalizing excessive complexity.\n"
   ]
  },
  {
   "cell_type": "markdown",
   "metadata": {},
   "source": [
    "39) Explain the problem of auto-correlation of the errors."
   ]
  },
  {
   "cell_type": "markdown",
   "metadata": {},
   "source": []
  },
  {
   "cell_type": "markdown",
   "metadata": {},
   "source": [
    "40) Using only stationary variables, run a regression of GDP on constant, unemployment and inflation and test the hypothesis of no-autocorrelation of errors."
   ]
  },
  {
   "cell_type": "code",
   "execution_count": null,
   "metadata": {},
   "outputs": [],
   "source": []
  },
  {
   "cell_type": "markdown",
   "metadata": {},
   "source": [
    "41) Regardless of your answer to question 40, correct auto-correlation with GLS. Comment on the difference with question 40."
   ]
  },
  {
   "cell_type": "code",
   "execution_count": null,
   "metadata": {},
   "outputs": [],
   "source": []
  },
  {
   "cell_type": "markdown",
   "metadata": {},
   "source": [
    "42) For all variables, construct their lag 1 and lag 2 variables."
   ]
  },
  {
   "cell_type": "code",
   "execution_count": null,
   "metadata": {},
   "outputs": [],
   "source": []
  },
  {
   "cell_type": "markdown",
   "metadata": {},
   "source": [
    "43) Run a regression of GDP on constant, lag 1 unemployment, lag 2 unemployment, lag 1 inflation, lag 2 inflation. What is the number of observations and why?"
   ]
  },
  {
   "cell_type": "code",
   "execution_count": null,
   "metadata": {},
   "outputs": [],
   "source": []
  },
  {
   "cell_type": "markdown",
   "metadata": {},
   "source": [
    "44) State and test the no-Granger causality hypothesis of unemployment on GDP at the 1% level"
   ]
  },
  {
   "cell_type": "code",
   "execution_count": null,
   "metadata": {},
   "outputs": [],
   "source": []
  },
  {
   "cell_type": "markdown",
   "metadata": {},
   "source": [
    "45) Divide the sample in two groups: 1900-1960 and 1961-2000. Test the stability of coefficients between the two periods."
   ]
  },
  {
   "cell_type": "code",
   "execution_count": null,
   "metadata": {},
   "outputs": [],
   "source": []
  },
  {
   "cell_type": "markdown",
   "metadata": {},
   "source": [
    "46) Test the structural breakpoint using a trim ratio of 30% at the 1% level"
   ]
  },
  {
   "cell_type": "code",
   "execution_count": null,
   "metadata": {},
   "outputs": [],
   "source": []
  }
 ],
 "metadata": {
  "kernelspec": {
   "display_name": "Python 3",
   "language": "python",
   "name": "python3"
  },
  "language_info": {
   "codemirror_mode": {
    "name": "ipython",
    "version": 3
   },
   "file_extension": ".py",
   "mimetype": "text/x-python",
   "name": "python",
   "nbconvert_exporter": "python",
   "pygments_lexer": "ipython3",
   "version": "3.8.2"
  }
 },
 "nbformat": 4,
 "nbformat_minor": 2
}
