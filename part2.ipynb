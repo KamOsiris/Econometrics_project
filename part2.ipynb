{
 "cells": [
  {
   "cell_type": "markdown",
   "metadata": {},
   "source": [
    "# MODS202 - Econometrics Project"
   ]
  },
  {
   "cell_type": "code",
   "execution_count": 97,
   "metadata": {},
   "outputs": [],
   "source": [
    "import pandas as pd\n",
    "import numpy as np\n",
    "import matplotlib.pyplot as plt\n",
    "import statsmodels.api as sm"
   ]
  },
  {
   "cell_type": "markdown",
   "metadata": {},
   "source": [
    "### Setup:"
   ]
  },
  {
   "cell_type": "code",
   "execution_count": 98,
   "metadata": {},
   "outputs": [
    {
     "name": "stdout",
     "output_type": "stream",
     "text": [
      "        0      1     2     3     4   5     6     7     8          9   \\\n",
      "0    24000  0.006  5.38  6.57  4.09   1  29.6  15.3  4.98  10.085810   \n",
      "1    21599  0.027  4.69  6.42  4.97   2  24.2  17.8  9.14   9.980402   \n",
      "2    34700  0.027  4.69  7.18  4.97   2  24.2  17.8  4.03  10.454500   \n",
      "3    33400  0.032  4.58  7.00  6.06   3  22.2  18.7  2.94  10.416310   \n",
      "4    36199  0.069  4.58  7.15  6.06   3  22.2  18.7  5.33  10.496790   \n",
      "..     ...    ...   ...   ...   ...  ..   ...   ...   ...        ...   \n",
      "501  22400  0.063  5.73  6.59  2.48   1  27.3  21.0  9.67  10.016820   \n",
      "502  20600  0.045  5.73  6.12  2.29   1  27.3  21.0  9.08   9.933046   \n",
      "503  23899  0.061  5.73  6.98  2.17   1  27.3  21.0  5.64  10.081590   \n",
      "504  22000  0.110  5.73  6.79  2.39   1  27.3  21.0  6.48   9.998797   \n",
      "505  11900  0.047  5.73  6.03  2.51   1  27.3  21.0  7.88   9.384294   \n",
      "\n",
      "           10        11  \n",
      "0    1.682688  5.690360  \n",
      "1    1.545433  5.488938  \n",
      "2    1.545433  5.488938  \n",
      "3    1.521699  5.402678  \n",
      "4    1.521699  5.402678  \n",
      "..        ...       ...  \n",
      "501  1.745715  5.609472  \n",
      "502  1.745715  5.609472  \n",
      "503  1.745715  5.609472  \n",
      "504  1.745715  5.609472  \n",
      "505  1.745715  5.609472  \n",
      "\n",
      "[506 rows x 12 columns]\n"
     ]
    }
   ],
   "source": [
    "# price     crime     nox       rooms     dist      radial\n",
    "# proptax   stratio   lowstat   lprice    lnox      lproptax\n",
    "\n",
    "df = pd.read_csv(\"./data/hprice2.raw\", delim_whitespace=True, header=None)\n",
    "\n",
    "print(df)\n",
    "\n",
    "price = df[0]\n",
    "crime = df[1]\n",
    "nox = df[2]\n",
    "rooms = df[3]\n",
    "proptax = df[6]\n",
    "lprice = df[9]\n",
    "lnox = df[10]\n",
    "lproptax = df[11]\n",
    "\n",
    "const = np.ones(len(price))"
   ]
  },
  {
   "cell_type": "markdown",
   "metadata": {},
   "source": [
    "## Part 2: HETEROSKEDASTICITY"
   ]
  },
  {
   "cell_type": "markdown",
   "metadata": {},
   "source": [
    "**<font color=\"#0078D4\">\n",
    "    Question 20: Explain the problem of heteroskedasticity with an example of the course.\n",
    "</font>**"
   ]
  },
  {
   "cell_type": "markdown",
   "metadata": {},
   "source": [
    "Following the definition of heteroskedasticity, we can say that it is a problem that occurs when the variance of the error term is not constant. In other words, the variance of the error term is not the same for all observations. This is a problem because it violates the assumption of homoskedasticity, which is one of the assumptions of the classical linear regression model.\n",
    "In particular we can't say anymore that the OLS estimator is BLUE (Best Linear Unbiased Estimator).\n",
    "\n",
    "ESEMPI ????"
   ]
  },
  {
   "cell_type": "markdown",
   "metadata": {},
   "source": [
    "**<font color=\"#0078D4\">\n",
    "    Question 21: Suppose that $E[uu]' = \\sigma^2 \\Omega$. Show that the GLS estimator is the best linear unbiased estimator\n",
    "</font>**"
   ]
  },
  {
   "cell_type": "markdown",
   "metadata": {},
   "source": [
    "If we have:\n",
    "$$E[uu^{'}] = \\sigma^2 \\Omega$$"
   ]
  },
  {
   "cell_type": "markdown",
   "metadata": {},
   "source": [
    "**<font color=\"#0078D4\">\n",
    "    Question 22:  In the specification of question 10, test the hypothesis of no heteroskedasticity of linear form, i.e. in the regression of $u^2$ on constant, crime, nox, rooms, proptax, test $H_0: \\delta_{crime}, \\delta_{nox}, \\delta_{room}, \\delta_{proptax}=0$, where the coefficients $\\delta_k$ (k=crime, nox, rooms, proptax) are associated with the corresponding explanatory variables.\n",
    "</font>**"
   ]
  },
  {
   "cell_type": "code",
   "execution_count": 99,
   "metadata": {},
   "outputs": [
    {
     "name": "stdout",
     "output_type": "stream",
     "text": [
      "                            OLS Regression Results                            \n",
      "==============================================================================\n",
      "Dep. Variable:                      y   R-squared:                       0.051\n",
      "Model:                            OLS   Adj. R-squared:                  0.044\n",
      "Method:                 Least Squares   F-statistic:                     6.799\n",
      "Date:                Sat, 09 Dec 2023   Prob (F-statistic):           2.47e-05\n",
      "Time:                        19:30:42   Log-Likelihood:                -10130.\n",
      "No. Observations:                 506   AIC:                         2.027e+04\n",
      "Df Residuals:                     501   BIC:                         2.029e+04\n",
      "Df Model:                           4                                         \n",
      "Covariance Type:            nonrobust                                         \n",
      "==============================================================================\n",
      "                 coef    std err          t      P>|t|      [0.025      0.975]\n",
      "------------------------------------------------------------------------------\n",
      "const      -5.885e+07   6.41e+07     -0.917      0.359   -1.85e+08    6.72e+07\n",
      "x1         -9.687e+05   7.69e+05     -1.260      0.208   -2.48e+06    5.42e+05\n",
      "x2          9.091e+05   6.28e+06      0.145      0.885   -1.14e+07    1.32e+07\n",
      "x3           2.63e+06   8.07e+06      0.326      0.745   -1.32e+07    1.85e+07\n",
      "x4           1.88e+06   4.78e+05      3.931      0.000     9.4e+05    2.82e+06\n",
      "==============================================================================\n",
      "Omnibus:                      760.905   Durbin-Watson:                   0.777\n",
      "Prob(Omnibus):                  0.000   Jarque-Bera (JB):           159893.659\n",
      "Skew:                           8.299   Prob(JB):                         0.00\n",
      "Kurtosis:                      88.489   Cond. No.                         546.\n",
      "==============================================================================\n",
      "\n",
      "Notes:\n",
      "[1] Standard Errors assume that the covariance matrix of the errors is correctly specified.\n",
      "F-statistic:  5.428258086300428\n",
      "p-value:  7.107200279283561e-05\n",
      "---------\n",
      "F-statistic:  4.356640145974687\n",
      "p-value:  0.0017958275801663627\n",
      "---------\n",
      "F-statistic:  3.260206661330142\n",
      "p-value:  5.552933562690138e-05\n",
      "---------\n"
     ]
    }
   ],
   "source": [
    "from scipy.stats import f\n",
    "from statsmodels.stats.diagnostic import het_breuschpagan, het_white\n",
    "\n",
    "y = price\n",
    "X = np.column_stack((const, crime, nox, rooms, proptax))\n",
    "\n",
    "model_0 = sm.OLS(y, X).fit()\n",
    "u = model_0.resid\n",
    "u2 = u**2\n",
    "\n",
    "y = u2\n",
    "model_1 = sm.OLS(y, X).fit()\n",
    "print(model_1.summary())  # reject H0 p-value < 0.05\n",
    "\n",
    "R2_1 = model_1.rsquared\n",
    "n, k = X.shape\n",
    "F = (R2_1 / k) / ((1 - R2_1) / (n - k - 1))\n",
    "p_value = f.sf(F, k, n - k - 1)\n",
    "\n",
    "print(\"F-statistic: \", F)\n",
    "print(\"p-value: \", p_value)\n",
    "print(\"---------\")\n",
    "\n",
    "_, _, F, p_value = het_breuschpagan(model_1.resid, model_1.model.exog)\n",
    "\n",
    "print(\"F-statistic: \", F)\n",
    "print(\"p-value: \", p_value)\n",
    "print(\"---------\")\n",
    "\n",
    "_, _, F, p_value = het_white(model_1.resid, model_1.model.exog)\n",
    "\n",
    "print(\"F-statistic: \", F)\n",
    "print(\"p-value: \", p_value)\n",
    "print(\"---------\")"
   ]
  },
  {
   "cell_type": "markdown",
   "metadata": {},
   "source": [
    "**<font color=\"#0078D4\">\n",
    "    Question 23: In the specification of question 11, test the hypothesis of no heteroskedasticity of linear form.\n",
    "</font>**"
   ]
  },
  {
   "cell_type": "code",
   "execution_count": 100,
   "metadata": {},
   "outputs": [
    {
     "name": "stdout",
     "output_type": "stream",
     "text": [
      "                            OLS Regression Results                            \n",
      "==============================================================================\n",
      "Dep. Variable:                      y   R-squared:                       0.126\n",
      "Model:                            OLS   Adj. R-squared:                  0.119\n",
      "Method:                 Least Squares   F-statistic:                     17.98\n",
      "Date:                Sat, 09 Dec 2023   Prob (F-statistic):           8.33e-14\n",
      "Time:                        19:30:42   Log-Likelihood:                 185.10\n",
      "No. Observations:                 506   AIC:                            -360.2\n",
      "Df Residuals:                     501   BIC:                            -339.1\n",
      "Df Model:                           4                                         \n",
      "Covariance Type:            nonrobust                                         \n",
      "==============================================================================\n",
      "                 coef    std err          t      P>|t|      [0.025      0.975]\n",
      "------------------------------------------------------------------------------\n",
      "const          0.0757      0.090      0.842      0.400      -0.101       0.253\n",
      "x1         -3.794e-05      0.001     -0.035      0.972      -0.002       0.002\n",
      "x2             0.0001      0.009      0.017      0.986      -0.017       0.017\n",
      "x3            -0.0237      0.011     -2.096      0.037      -0.046      -0.001\n",
      "x4             0.0034      0.001      5.026      0.000       0.002       0.005\n",
      "==============================================================================\n",
      "Omnibus:                      612.530   Durbin-Watson:                   0.914\n",
      "Prob(Omnibus):                  0.000   Jarque-Bera (JB):            48787.030\n",
      "Skew:                           5.865   Prob(JB):                         0.00\n",
      "Kurtosis:                      49.652   Cond. No.                         546.\n",
      "==============================================================================\n",
      "\n",
      "Notes:\n",
      "[1] Standard Errors assume that the covariance matrix of the errors is correctly specified.\n",
      "F-statistic:  14.352401254541318\n",
      "p-value:  3.812174867556947e-13\n",
      "---------\n",
      "F-statistic:  7.894896673424933\n",
      "p-value:  3.5494000856709975e-06\n",
      "---------\n",
      "F-statistic:  6.731126751811877\n",
      "p-value:  1.256942581520943e-12\n",
      "---------\n"
     ]
    }
   ],
   "source": [
    "y = lprice\n",
    "X = np.column_stack((const, crime, nox, rooms, proptax))\n",
    "\n",
    "model_0 = sm.OLS(y, X).fit()\n",
    "u = model_0.resid\n",
    "u2 = u**2\n",
    "\n",
    "y = u2\n",
    "model_1 = sm.OLS(y, X).fit()\n",
    "print(model_1.summary())  # reject H0 p-value < 0.05\n",
    "\n",
    "R2_1 = model_1.rsquared\n",
    "n, k = X.shape\n",
    "F = (R2_1 / k) / ((1 - R2_1) / (n - k - 1))\n",
    "p_value = f.sf(F, k, n - k - 1)\n",
    "\n",
    "print(\"F-statistic: \", F)\n",
    "print(\"p-value: \", p_value)\n",
    "print(\"---------\")\n",
    "\n",
    "_, _, F, p_value = het_breuschpagan(model_1.resid, model_1.model.exog)\n",
    "\n",
    "print(\"F-statistic: \", F)\n",
    "print(\"p-value: \", p_value)\n",
    "print(\"---------\")\n",
    "\n",
    "_, _, F, p_value = het_white(model_1.resid, model_1.model.exog)\n",
    "\n",
    "print(\"F-statistic: \", F)\n",
    "print(\"p-value: \", p_value)\n",
    "print(\"---------\")"
   ]
  },
  {
   "cell_type": "markdown",
   "metadata": {},
   "source": [
    "**<font color=\"#0078D4\">\n",
    "    Question 24: In the specification of question 12, test the hypothesis of no heteroskedasticity of linear form.\n",
    "</font>**"
   ]
  },
  {
   "cell_type": "code",
   "execution_count": 101,
   "metadata": {},
   "outputs": [
    {
     "name": "stdout",
     "output_type": "stream",
     "text": [
      "                            OLS Regression Results                            \n",
      "==============================================================================\n",
      "Dep. Variable:                      y   R-squared:                       0.116\n",
      "Model:                            OLS   Adj. R-squared:                  0.109\n",
      "Method:                 Least Squares   F-statistic:                     16.51\n",
      "Date:                Sat, 09 Dec 2023   Prob (F-statistic):           1.02e-12\n",
      "Time:                        19:30:42   Log-Likelihood:                 184.66\n",
      "No. Observations:                 506   AIC:                            -359.3\n",
      "Df Residuals:                     501   BIC:                            -338.2\n",
      "Df Model:                           4                                         \n",
      "Covariance Type:            nonrobust                                         \n",
      "==============================================================================\n",
      "                 coef    std err          t      P>|t|      [0.025      0.975]\n",
      "------------------------------------------------------------------------------\n",
      "const         -0.5496      0.167     -3.289      0.001      -0.878      -0.221\n",
      "x1             0.0006      0.001      0.577      0.564      -0.001       0.003\n",
      "x2             0.0404      0.051      0.794      0.427      -0.060       0.140\n",
      "x3            -0.0219      0.011     -1.928      0.054      -0.044       0.000\n",
      "x4             0.1149      0.028      4.128      0.000       0.060       0.170\n",
      "==============================================================================\n",
      "Omnibus:                      614.102   Durbin-Watson:                   0.913\n",
      "Prob(Omnibus):                  0.000   Jarque-Bera (JB):            48743.795\n",
      "Skew:                           5.895   Prob(JB):                         0.00\n",
      "Kurtosis:                      49.615   Cond. No.                         241.\n",
      "==============================================================================\n",
      "\n",
      "Notes:\n",
      "[1] Standard Errors assume that the covariance matrix of the errors is correctly specified.\n",
      "F-statistic:  13.18153528036565\n",
      "p-value:  4.481758310179018e-12\n",
      "---------\n",
      "F-statistic:  6.881800535355378\n",
      "p-value:  2.1308678532705283e-05\n",
      "---------\n",
      "F-statistic:  6.367690840074395\n",
      "p-value:  8.163351511935848e-12\n",
      "---------\n"
     ]
    }
   ],
   "source": [
    "y = lprice\n",
    "X = np.column_stack((const, crime, lnox, rooms, lproptax))\n",
    "\n",
    "model_0 = sm.OLS(y, X).fit()\n",
    "u = model_0.resid\n",
    "u2 = u**2\n",
    "\n",
    "y = u2\n",
    "model_1 = sm.OLS(y, X).fit()\n",
    "print(model_1.summary())  # reject H0 p-value < 0.05\n",
    "\n",
    "R2_1 = model_1.rsquared\n",
    "n, k = X.shape\n",
    "F = (R2_1 / k) / ((1 - R2_1) / (n - k - 1))\n",
    "p_value = f.sf(F, k, n - k - 1)\n",
    "\n",
    "print(\"F-statistic: \", F)\n",
    "print(\"p-value: \", p_value)\n",
    "print(\"---------\")\n",
    "\n",
    "_, _, F, p_value = het_breuschpagan(model_1.resid, model_1.model.exog)\n",
    "\n",
    "print(\"F-statistic: \", F)\n",
    "print(\"p-value: \", p_value)\n",
    "print(\"---------\")\n",
    "\n",
    "_, _, F, p_value = het_white(model_1.resid, model_1.model.exog)\n",
    "\n",
    "print(\"F-statistic: \", F)\n",
    "print(\"p-value: \", p_value)\n",
    "print(\"---------\")"
   ]
  },
  {
   "cell_type": "markdown",
   "metadata": {},
   "source": [
    "**<font color=\"#0078D4\">\n",
    "   Question 25: Comment on the differences between your results of questions 22, 23, 24.\n",
    "</font>**"
   ]
  },
  {
   "cell_type": "markdown",
   "metadata": {},
   "source": []
  },
  {
   "cell_type": "markdown",
   "metadata": {},
   "source": [
    "**<font color=\"#0078D4\">\n",
    "    Question 26: Regardless of the results of the test of question 22, identify the most significant variable causing heteroskedasticity using the student statistics and run a WLS regression with the identified variable as weight.\n",
    "</font>**"
   ]
  },
  {
   "cell_type": "code",
   "execution_count": 102,
   "metadata": {},
   "outputs": [
    {
     "name": "stdout",
     "output_type": "stream",
     "text": [
      "                            OLS Regression Results                            \n",
      "==============================================================================\n",
      "Dep. Variable:                      y   R-squared:                       0.051\n",
      "Model:                            OLS   Adj. R-squared:                  0.044\n",
      "Method:                 Least Squares   F-statistic:                     6.799\n",
      "Date:                Sat, 09 Dec 2023   Prob (F-statistic):           2.47e-05\n",
      "Time:                        19:30:42   Log-Likelihood:                -10130.\n",
      "No. Observations:                 506   AIC:                         2.027e+04\n",
      "Df Residuals:                     501   BIC:                         2.029e+04\n",
      "Df Model:                           4                                         \n",
      "Covariance Type:            nonrobust                                         \n",
      "==============================================================================\n",
      "                 coef    std err          t      P>|t|      [0.025      0.975]\n",
      "------------------------------------------------------------------------------\n",
      "const      -5.885e+07   6.41e+07     -0.917      0.359   -1.85e+08    6.72e+07\n",
      "x1         -9.687e+05   7.69e+05     -1.260      0.208   -2.48e+06    5.42e+05\n",
      "x2          9.091e+05   6.28e+06      0.145      0.885   -1.14e+07    1.32e+07\n",
      "x3           2.63e+06   8.07e+06      0.326      0.745   -1.32e+07    1.85e+07\n",
      "x4           1.88e+06   4.78e+05      3.931      0.000     9.4e+05    2.82e+06\n",
      "==============================================================================\n",
      "Omnibus:                      760.905   Durbin-Watson:                   0.777\n",
      "Prob(Omnibus):                  0.000   Jarque-Bera (JB):           159893.659\n",
      "Skew:                           8.299   Prob(JB):                         0.00\n",
      "Kurtosis:                      88.489   Cond. No.                         546.\n",
      "==============================================================================\n",
      "\n",
      "Notes:\n",
      "[1] Standard Errors assume that the covariance matrix of the errors is correctly specified.\n"
     ]
    },
    {
     "data": {
      "image/png": "[encoded data removed]",
      "text/plain": [
       "<Figure size 640x480 with 1 Axes>"
      ]
     },
     "metadata": {},
     "output_type": "display_data"
    },
    {
     "name": "stdout",
     "output_type": "stream",
     "text": [
      "                            WLS Regression Results                            \n",
      "==============================================================================\n",
      "Dep. Variable:                      y   R-squared:                       0.628\n",
      "Model:                            WLS   Adj. R-squared:                  0.625\n",
      "Method:                 Least Squares   F-statistic:                     211.2\n",
      "Date:                Sat, 09 Dec 2023   Prob (F-statistic):          4.82e-106\n",
      "Time:                        19:30:43   Log-Likelihood:                -5087.7\n",
      "No. Observations:                 506   AIC:                         1.019e+04\n",
      "Df Residuals:                     501   BIC:                         1.021e+04\n",
      "Df Model:                           4                                         \n",
      "Covariance Type:            nonrobust                                         \n",
      "==============================================================================\n",
      "                 coef    std err          t      P>|t|      [0.025      0.975]\n",
      "------------------------------------------------------------------------------\n",
      "const      -2.483e+04   3013.539     -8.241      0.000   -3.08e+04   -1.89e+04\n",
      "x1          -125.1360     41.299     -3.030      0.003    -206.277     -43.995\n",
      "x2          -475.0555    295.809     -1.606      0.109   -1056.234     106.123\n",
      "x3          8645.5416    376.315     22.974      0.000    7906.191    9384.892\n",
      "x4           -95.2123     23.544     -4.044      0.000    -141.470     -48.955\n",
      "==============================================================================\n",
      "Omnibus:                      223.900   Durbin-Watson:                   0.799\n",
      "Prob(Omnibus):                  0.000   Jarque-Bera (JB):             1477.171\n",
      "Skew:                           1.811   Prob(JB):                         0.00\n",
      "Kurtosis:                      10.546   Cond. No.                         510.\n",
      "==============================================================================\n",
      "\n",
      "Notes:\n",
      "[1] Standard Errors assume that the covariance matrix of the errors is correctly specified.\n"
     ]
    },
    {
     "data": {
      "image/png": "[encoded data removed]",
      "text/plain": [
       "<Figure size 640x480 with 1 Axes>"
      ]
     },
     "metadata": {},
     "output_type": "display_data"
    }
   ],
   "source": [
    "y_0 = price\n",
    "X = np.column_stack((const, crime, nox, rooms, proptax))\n",
    "\n",
    "significant_var = proptax\n",
    "\n",
    "model_0 = sm.OLS(y_0, X).fit()\n",
    "u = model_0.resid\n",
    "u2 = u**2\n",
    "\n",
    "residuals_ols = model_0.resid\n",
    "\n",
    "y = u2\n",
    "model_ols = sm.OLS(y, X).fit()\n",
    "print(model_ols.summary())\n",
    "\n",
    "# Scatter plot of residuals against predicted values\n",
    "\n",
    "plt.scatter(significant_var, residuals_ols, alpha=0.5)\n",
    "plt.xlabel(\"Independent Variable\")\n",
    "plt.ylabel(\"Residuals\")\n",
    "plt.show()\n",
    "\n",
    "h = np.sqrt(significant_var)\n",
    "model_wls = sm.WLS(y_0, X, weights=1 / h).fit()\n",
    "print(model_wls.summary())\n",
    "\n",
    "residuals_wls = model_wls.resid\n",
    "\n",
    "# histogram of residuals for both OLS and WLS models\n",
    "plt.hist(residuals_ols, alpha=0.5, label=\"OLS\")\n",
    "plt.hist(residuals_wls, alpha=0.5, label=\"WLS\")\n",
    "plt.xlabel(\"Residuals\")\n",
    "plt.ylabel(\"Frequency\")\n",
    "plt.title(\"Comparison of OLS and WLS Residuals\")\n",
    "plt.legend()\n",
    "plt.show()"
   ]
  },
  {
   "cell_type": "code",
   "execution_count": 103,
   "metadata": {},
   "outputs": [
    {
     "name": "stdout",
     "output_type": "stream",
     "text": [
      "[-5.81059887 -3.54396301 -2.09916169 19.28531385 -3.73094955]\n",
      "const    -5.810599\n",
      "x1       -3.543963\n",
      "x2       -2.099162\n",
      "x3       19.285314\n",
      "x4       -3.730950\n",
      "dtype: float64\n",
      "[1.10815244e-08 4.31066923e-04 3.63024347e-02 0.00000000e+00\n",
      " 2.12584339e-04]\n",
      "const    1.108152e-08\n",
      "x1       4.310669e-04\n",
      "x2       3.630243e-02\n",
      "x3       2.141645e-62\n",
      "x4       2.125843e-04\n",
      "dtype: float64\n"
     ]
    }
   ],
   "source": [
    "# Calculate t_stats and p_values manually and compare with statsmodels\n",
    "from scipy.stats import t\n",
    "\n",
    "y = price\n",
    "X = np.column_stack((const, crime, nox, rooms, proptax))\n",
    "\n",
    "model_ols = sm.OLS(y, X).fit()\n",
    "\n",
    "beta_hat = np.linalg.inv(X.T @ X) @ X.T @ y\n",
    "\n",
    "u = y - X @ beta_hat\n",
    "n, k = np.shape(X)\n",
    "sig2 = u.T @ u / (n - k)\n",
    "Var = sig2 * np.linalg.inv(X.T @ X)\n",
    "se = np.sqrt(np.diag(Var))\n",
    "t_stats = beta_hat / se\n",
    "distrib_df = X.shape[0] - X.shape[1]\n",
    "p_values = 2 * (1 - t.cdf(np.abs(t_stats), distrib_df))\n",
    "\n",
    "print(t_stats)\n",
    "print(model_ols.tvalues)\n",
    "print(p_values)\n",
    "print(model_ols.pvalues)"
   ]
  },
  {
   "cell_type": "code",
   "execution_count": 104,
   "metadata": {},
   "outputs": [
    {
     "name": "stdout",
     "output_type": "stream",
     "text": [
      "                            OLS Regression Results                            \n",
      "==============================================================================\n",
      "Dep. Variable:                      y   R-squared:                       0.575\n",
      "Model:                            OLS   Adj. R-squared:                  0.572\n",
      "Method:                 Least Squares   F-statistic:                     169.6\n",
      "Date:                Sat, 09 Dec 2023   Prob (F-statistic):           1.06e-91\n",
      "Time:                        19:30:43   Log-Likelihood:                -5119.6\n",
      "No. Observations:                 506   AIC:                         1.025e+04\n",
      "Df Residuals:                     501   BIC:                         1.027e+04\n",
      "Df Model:                           4                                         \n",
      "Covariance Type:            nonrobust                                         \n",
      "==============================================================================\n",
      "                 coef    std err          t      P>|t|      [0.025      0.975]\n",
      "------------------------------------------------------------------------------\n",
      "const      -1.868e+04   3215.205     -5.811      0.000    -2.5e+04   -1.24e+04\n",
      "x1          -136.5438     38.529     -3.544      0.000    -212.241     -60.846\n",
      "x2          -660.4672    314.634     -2.099      0.036   -1278.632     -42.303\n",
      "x3          7797.9286    404.345     19.285      0.000    7003.507    8592.350\n",
      "x4           -89.4144     23.966     -3.731      0.000    -136.500     -42.329\n",
      "==============================================================================\n",
      "Omnibus:                      264.796   Durbin-Watson:                   0.752\n",
      "Prob(Omnibus):                  0.000   Jarque-Bera (JB):             2348.397\n",
      "Skew:                           2.111   Prob(JB):                         0.00\n",
      "Kurtosis:                      12.673   Cond. No.                         546.\n",
      "==============================================================================\n",
      "\n",
      "Notes:\n",
      "[1] Standard Errors assume that the covariance matrix of the errors is correctly specified.\n",
      "       t-statistic   p-value\n",
      "const    -3.806724  0.000158\n",
      "x1       -4.479634  0.000009\n",
      "x2       -2.714395  0.006869\n",
      "x3       11.333187  0.000000\n",
      "x4       -3.306852  0.001011\n",
      "       t-statistic (OLS)  p-value (OLS)\n",
      "const          -5.810599   1.108152e-08\n",
      "x1             -3.543963   4.310669e-04\n",
      "x2             -2.099162   3.630243e-02\n",
      "x3             19.285314   2.141645e-62\n",
      "x4             -3.730950   2.125843e-04\n"
     ]
    }
   ],
   "source": [
    "# Calculate t_stats and p_values manually and compare with statsmodels with robust standard errors\n",
    "from scipy.stats import t\n",
    "\n",
    "y = price\n",
    "X = np.column_stack((const, crime, nox, rooms, proptax))\n",
    "\n",
    "model_ols = sm.OLS(y, X).fit()\n",
    "print(model_ols.summary())\n",
    "\n",
    "se = model_ols.HC1_se\n",
    "estimate = model_ols.params\n",
    "t_stats = (estimate - 0) / se\n",
    "\n",
    "distrib_df = X.shape[0] - X.shape[1]\n",
    "p_values = 2 * (1 - t.cdf(np.abs(t_stats), distrib_df))\n",
    "\n",
    "print(pd.DataFrame({\"t-statistic\": t_stats, \"p-value\": p_values}))\n",
    "print(pd.DataFrame({\"t-statistic (OLS)\": model_ols.tvalues, \"p-value (OLS)\": model_ols.pvalues}))"
   ]
  }
 ],
 "metadata": {
  "kernelspec": {
   "display_name": "venv",
   "language": "python",
   "name": "python3"
  },
  "language_info": {
   "codemirror_mode": {
    "name": "ipython",
    "version": 3
   },
   "file_extension": ".py",
   "mimetype": "text/x-python",
   "name": "python",
   "nbconvert_exporter": "python",
   "pygments_lexer": "ipython3",
   "version": "3.10.4"
  }
 },
 "nbformat": 4,
 "nbformat_minor": 2
}
