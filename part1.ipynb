{
 "cells": [
  {
   "cell_type": "markdown",
   "metadata": {},
   "source": [
    "# MODS202 - Econometrics Final Project"
   ]
  },
  {
   "cell_type": "code",
   "execution_count": 3,
   "metadata": {},
   "outputs": [],
   "source": [
    "# imports\n",
    "import pandas as pd\n",
    "import numpy as np\n",
    "import matplotlib.pyplot as plt\n",
    "\n",
    "import statsmodels.api as sm\n",
    "from scipy.stats import t, f\n"
   ]
  },
  {
   "cell_type": "code",
   "execution_count": 4,
   "metadata": {},
   "outputs": [
    {
     "data": {
      "text/html": [
       "<div>\n",
       "<style scoped>\n",
       "    .dataframe tbody tr th:only-of-type {\n",
       "        vertical-align: middle;\n",
       "    }\n",
       "\n",
       "    .dataframe tbody tr th {\n",
       "        vertical-align: top;\n",
       "    }\n",
       "\n",
       "    .dataframe thead th {\n",
       "        text-align: right;\n",
       "    }\n",
       "</style>\n",
       "<table border=\"1\" class=\"dataframe\">\n",
       "  <thead>\n",
       "    <tr style=\"text-align: right;\">\n",
       "      <th></th>\n",
       "      <th>price</th>\n",
       "      <th>crime</th>\n",
       "      <th>nox</th>\n",
       "      <th>rooms</th>\n",
       "      <th>dist</th>\n",
       "      <th>radial</th>\n",
       "      <th>proptax</th>\n",
       "      <th>stratio</th>\n",
       "      <th>lowstat</th>\n",
       "      <th>lprice</th>\n",
       "      <th>lnox</th>\n",
       "      <th>lproptax</th>\n",
       "    </tr>\n",
       "  </thead>\n",
       "  <tbody>\n",
       "    <tr>\n",
       "      <th>0</th>\n",
       "      <td>24000</td>\n",
       "      <td>0.006</td>\n",
       "      <td>5.38</td>\n",
       "      <td>6.57</td>\n",
       "      <td>4.09</td>\n",
       "      <td>1</td>\n",
       "      <td>29.6</td>\n",
       "      <td>15.3</td>\n",
       "      <td>4.98</td>\n",
       "      <td>10.085810</td>\n",
       "      <td>1.682688</td>\n",
       "      <td>5.690360</td>\n",
       "    </tr>\n",
       "    <tr>\n",
       "      <th>1</th>\n",
       "      <td>21599</td>\n",
       "      <td>0.027</td>\n",
       "      <td>4.69</td>\n",
       "      <td>6.42</td>\n",
       "      <td>4.97</td>\n",
       "      <td>2</td>\n",
       "      <td>24.2</td>\n",
       "      <td>17.8</td>\n",
       "      <td>9.14</td>\n",
       "      <td>9.980402</td>\n",
       "      <td>1.545433</td>\n",
       "      <td>5.488938</td>\n",
       "    </tr>\n",
       "    <tr>\n",
       "      <th>2</th>\n",
       "      <td>34700</td>\n",
       "      <td>0.027</td>\n",
       "      <td>4.69</td>\n",
       "      <td>7.18</td>\n",
       "      <td>4.97</td>\n",
       "      <td>2</td>\n",
       "      <td>24.2</td>\n",
       "      <td>17.8</td>\n",
       "      <td>4.03</td>\n",
       "      <td>10.454500</td>\n",
       "      <td>1.545433</td>\n",
       "      <td>5.488938</td>\n",
       "    </tr>\n",
       "    <tr>\n",
       "      <th>3</th>\n",
       "      <td>33400</td>\n",
       "      <td>0.032</td>\n",
       "      <td>4.58</td>\n",
       "      <td>7.00</td>\n",
       "      <td>6.06</td>\n",
       "      <td>3</td>\n",
       "      <td>22.2</td>\n",
       "      <td>18.7</td>\n",
       "      <td>2.94</td>\n",
       "      <td>10.416310</td>\n",
       "      <td>1.521699</td>\n",
       "      <td>5.402678</td>\n",
       "    </tr>\n",
       "    <tr>\n",
       "      <th>4</th>\n",
       "      <td>36199</td>\n",
       "      <td>0.069</td>\n",
       "      <td>4.58</td>\n",
       "      <td>7.15</td>\n",
       "      <td>6.06</td>\n",
       "      <td>3</td>\n",
       "      <td>22.2</td>\n",
       "      <td>18.7</td>\n",
       "      <td>5.33</td>\n",
       "      <td>10.496790</td>\n",
       "      <td>1.521699</td>\n",
       "      <td>5.402678</td>\n",
       "    </tr>\n",
       "  </tbody>\n",
       "</table>\n",
       "</div>"
      ],
      "text/plain": [
       "   price  crime   nox  rooms  dist  radial  proptax  stratio  lowstat  \\\n",
       "0  24000  0.006  5.38   6.57  4.09       1     29.6     15.3     4.98   \n",
       "1  21599  0.027  4.69   6.42  4.97       2     24.2     17.8     9.14   \n",
       "2  34700  0.027  4.69   7.18  4.97       2     24.2     17.8     4.03   \n",
       "3  33400  0.032  4.58   7.00  6.06       3     22.2     18.7     2.94   \n",
       "4  36199  0.069  4.58   7.15  6.06       3     22.2     18.7     5.33   \n",
       "\n",
       "      lprice      lnox  lproptax  \n",
       "0  10.085810  1.682688  5.690360  \n",
       "1   9.980402  1.545433  5.488938  \n",
       "2  10.454500  1.545433  5.488938  \n",
       "3  10.416310  1.521699  5.402678  \n",
       "4  10.496790  1.521699  5.402678  "
      ]
     },
     "execution_count": 4,
     "metadata": {},
     "output_type": "execute_result"
    }
   ],
   "source": [
    "# load data\n",
    "\n",
    "columns_name = [\"price\", \"crime\", \"nox\", \"rooms\", \"dist\", \"radial\", \"proptax\", \"stratio\", \"lowstat\", \"lprice\", \"lnox\", \"lproptax\"]\n",
    "raw_data = pd.read_csv('./data/HPRICE2.raw', delim_whitespace=True, header=None, names=columns_name)\n",
    "\n",
    "raw_data.head()"
   ]
  },
  {
   "cell_type": "markdown",
   "metadata": {},
   "source": [
    "Note that, in the following theoretical questions, we will refer to the dataset as the matrix $X$."
   ]
  },
  {
   "cell_type": "markdown",
   "metadata": {},
   "source": [
    "## Part 1: Cross-Section Data"
   ]
  },
  {
   "cell_type": "markdown",
   "metadata": {},
   "source": [
    "**<font color=\"#0078D4\">\n",
    "    Question 1: State the fundamental hypothesis under which the Ordinary Least Squares (OLS) estimators\n",
    "are unbiased.\n",
    "</font>**"
   ]
  },
  {
   "cell_type": "markdown",
   "metadata": {},
   "source": [
    "The fundamental hypothesis is that the disturbance/error term is of zero conditional mean, i.e. \n",
    "$$\n",
    "E(u|X) = E(u) = 0\n",
    "$$\n",
    "So, $X$ is uncorrelated with $u$.\n",
    "\n",
    "Where $u$, as said above, represents the error term in the linear model (you can see it in the next question).\n",
    "\n",
    "In other words, what you observe is independent from what you don't observe."
   ]
  },
  {
   "cell_type": "markdown",
   "metadata": {},
   "source": [
    "**<font color=\"#0078D4\">\n",
    "    Question 2: Show that under this assumption the OLS estimators are indeed unbiased.\n",
    "</font>**"
   ]
  },
  {
   "cell_type": "markdown",
   "metadata": {},
   "source": [
    "Consider the linear model:\n",
    "\n",
    "$$\n",
    " y_i = \\beta_0 + x_{i1}\\beta_1 + x_{i2}\\beta_2 + \\ldots + x_{iK}\\beta_K + u_i\n",
    "$$\n",
    "\n",
    "Defining $ y = (y_1, \\ldots, y_n)^\\prime $, $ x_k = (x_{1k}, \\ldots, x_{nk})^\\prime $, $u = (u_1, \\ldots, u_n)^\\prime $, we can write the model in matrix notations:\n",
    "\n",
    "$$ y = X\\beta + u $$\n",
    "\n",
    "with $ \\beta = (\\beta_1, \\ldots, \\beta_K)^\\prime $ and $ X = [x_1, x_2, \\ldots, x_K] $. \n",
    "\n",
    "OLS estimates are obtained by solving the following minimization problem:\n",
    "\n",
    "$$ \\min_\\beta \\sum_{i=1}^{n} u_i^\\prime u_i = u^\\prime u = (y - X\\beta)^\\prime (y - X\\beta) $$\n",
    "\n",
    "The first-order condition is:\n",
    "\n",
    "$$ -2X^\\prime (y - X\\beta) = 0 $$\n",
    "\n",
    "This is known as an orthogonality condition between $ X $ and $ u = (y - X\\beta) $ by taking expectations. \n",
    "\n",
    "Re-arranging terms:\n",
    "\n",
    "$$ (X^\\prime X)\\beta = X^\\prime y $$\n",
    "\n",
    "If there is no multi-collinearity, then the matrix $ (X^\\prime X) $ can be inverted, and the OLS estimator is given by:\n",
    "\n",
    "$$ \\hat{\\beta} = (X^\\prime X)^{-1}X^\\prime y$$\n",
    "\n",
    "This estimator is unbiased if the fundamental assumption (in matrix form) $ E(X^\\prime u) = 0 $ is satisfied:\n",
    "\n",
    "$$ E \\hat{\\beta} = E((X^\\prime X)^{-1}X^\\prime(X\\beta + u)) = \\beta + E(X^\\prime u) = \\beta $$\n"
   ]
  },
  {
   "cell_type": "markdown",
   "metadata": {},
   "source": [
    "**<font color=\"#0078D4\">\n",
    "    Question 3: Explain the sample selection bias with an example from the course.\n",
    "</font>**"
   ]
  },
  {
   "cell_type": "markdown",
   "metadata": {},
   "source": [
    "Sample selection bias occurs when the data points included in the analysis are not representative of the broader population. This non-random selection can lead to misleading conclusions and affect the generalizability of the study. \n",
    "\n",
    "Selection bias can arise in various ways, for example, in the course we introduced the **Survivor Bias** illustrating the examples of RAF planes returning from war zones.\n",
    "In this case, the data points are not representative of the broader population of planes, since the planes that were shot down are not included in the analysis.\n",
    "\n",
    "Is important to note that the sample selection bias is a broader concept than the survivor bias, since it can arise in many other ways."
   ]
  },
  {
   "cell_type": "markdown",
   "metadata": {},
   "source": [
    "**<font color=\"#0078D4\">\n",
    "    Question 4: Explain the omitted variable bias with an example from the course.\n",
    "</font>**"
   ]
  },
  {
   "cell_type": "markdown",
   "metadata": {},
   "source": [
    "We have an omitted variable bias when we **omit** a variable that is correlated with the dependent variable.\n",
    "\n",
    "In other words, when we leave out a viariable that matters for the dependent variable $y$."
   ]
  },
  {
   "cell_type": "markdown",
   "metadata": {},
   "source": [
    "In the course we saw the example in which we were trying to compute the wage of a person observing how many years of education the person has and the innate ability of that person. So, our model should be like:\n",
    "\n",
    "$$ \n",
    "wage = \\beta_0 + \\beta_1 educ + \\beta_2 abil + u.\n",
    "$$\n",
    "\n",
    "This model obtains $\\beta_0$, $\\beta_1$ and $\\beta_2$ which are unbiased, i.e, we runned a regression in educ and abil and got these unbiased coeficients.\n",
    "\n",
    "Although, imagine we exclude $\\beta_2$, running a regression with only educ, that gives us the following model:\n",
    "\n",
    "$$\n",
    "wage = \\tilde{\\beta}_0 + \\tilde{\\beta}_1 educ + v\n",
    "$$\n",
    "\n",
    "In this new model we have that $v = \\beta_2 abil + u$, and that $\\tilde{\\beta}_1 \\neq \\beta_1$.\n",
    "\n",
    "In fact, when we don't include the other variable in our regression we obtain, in general, an biased estimator $\\tilde{\\beta}_1$.\n",
    "\n",
    "It can be shown that $ E(\\tilde{\\beta}_1) = \\beta_1 + \\tilde{\\beta}_2 \\tilde{\\delta}_1$, where $\\tilde{\\delta}_1$ is the sample covariance between educ and abil. So $\\tilde{\\beta}_1$ is unbiased only if $\\tilde{\\delta}_1=0$, which means that educ and abil are uncorrelated.\n",
    "\n",
    "In our example, in general, we believe that $educ$ and $abil$ are positive correlated and as more hability leads to higher productivity we have that $\\beta_2 > 0$, so we conclude that the OLS estimators for the equation $wage = \\tilde{\\beta}_0 + \\tilde{\\beta}_0 educ + v$ are on average too large."
   ]
  },
  {
   "cell_type": "markdown",
   "metadata": {},
   "source": [
    "**<font color=\"#0078D4\">\n",
    "    Question 5: Explain the problem of multicollinearity. Is it a problem in this dataset?\n",
    "</font>**"
   ]
  },
  {
   "cell_type": "markdown",
   "metadata": {},
   "source": [
    "The multicollinearity problem arises when two or more columns of the matrix $ X $ are linearly dependent (or almost).\n",
    "\n",
    "If so, the determinant of the matrix $ (X^\\prime X) $ is zero or almost zero.\n",
    "\n",
    "$$\n",
    "det(X^\\prime X) = 0 \n",
    "$$\n",
    "\n",
    "\n",
    "In this case, the matrix $ (X^\\prime X) $ is not invertible, and the OLS estimator cannot be computed.\n",
    "\n",
    "A solution to this problem is to drop one of the linearly dependent columns or to add some observations to the dataset."
   ]
  },
  {
   "cell_type": "markdown",
   "metadata": {},
   "source": [
    "The dataset of the project does not have a multicollinearity problem because the determinant of the matrix $ (X^\\prime X) $ is not zero, as shown in the code below:"
   ]
  },
  {
   "cell_type": "code",
   "execution_count": 5,
   "metadata": {},
   "outputs": [
    {
     "name": "stdout",
     "output_type": "stream",
     "text": [
      "Determinant of the matrix (X'X):  1.3888028105785436e+31\n"
     ]
    }
   ],
   "source": [
    "\n",
    "X = raw_data[[\"crime\", \"nox\", \"rooms\", \"dist\", \"radial\", \"proptax\", \"stratio\", \"lowstat\"]]\n",
    "\n",
    "print(\"Determinant of the matrix (X'X): \", np.linalg.det(X.T.dot(X)))"
   ]
  },
  {
   "cell_type": "markdown",
   "metadata": {},
   "source": [
    "**<font color=\"#0078D4\">\n",
    "    Question 6: Create three categories of nox levels (low, medium, high), corresponding to the following\n",
    "    percentiles: 0-39%, 40%-60%, 61%-100%\n",
    "</font>**"
   ]
  },
  {
   "cell_type": "code",
   "execution_count": 6,
   "metadata": {},
   "outputs": [
    {
     "data": {
      "text/html": [
       "<div>\n",
       "<style scoped>\n",
       "    .dataframe tbody tr th:only-of-type {\n",
       "        vertical-align: middle;\n",
       "    }\n",
       "\n",
       "    .dataframe tbody tr th {\n",
       "        vertical-align: top;\n",
       "    }\n",
       "\n",
       "    .dataframe thead th {\n",
       "        text-align: right;\n",
       "    }\n",
       "</style>\n",
       "<table border=\"1\" class=\"dataframe\">\n",
       "  <thead>\n",
       "    <tr style=\"text-align: right;\">\n",
       "      <th></th>\n",
       "      <th>price</th>\n",
       "      <th>crime</th>\n",
       "      <th>nox</th>\n",
       "      <th>rooms</th>\n",
       "      <th>dist</th>\n",
       "      <th>radial</th>\n",
       "      <th>proptax</th>\n",
       "      <th>stratio</th>\n",
       "      <th>lowstat</th>\n",
       "      <th>lprice</th>\n",
       "      <th>lnox</th>\n",
       "      <th>lproptax</th>\n",
       "      <th>nox_cat</th>\n",
       "      <th>nox_cat_low</th>\n",
       "    </tr>\n",
       "  </thead>\n",
       "  <tbody>\n",
       "    <tr>\n",
       "      <th>0</th>\n",
       "      <td>24000</td>\n",
       "      <td>0.006</td>\n",
       "      <td>5.38</td>\n",
       "      <td>6.57</td>\n",
       "      <td>4.09</td>\n",
       "      <td>1</td>\n",
       "      <td>29.6</td>\n",
       "      <td>15.3</td>\n",
       "      <td>4.98</td>\n",
       "      <td>10.085810</td>\n",
       "      <td>1.682688</td>\n",
       "      <td>5.690360</td>\n",
       "      <td>medium</td>\n",
       "      <td>1</td>\n",
       "    </tr>\n",
       "    <tr>\n",
       "      <th>1</th>\n",
       "      <td>21599</td>\n",
       "      <td>0.027</td>\n",
       "      <td>4.69</td>\n",
       "      <td>6.42</td>\n",
       "      <td>4.97</td>\n",
       "      <td>2</td>\n",
       "      <td>24.2</td>\n",
       "      <td>17.8</td>\n",
       "      <td>9.14</td>\n",
       "      <td>9.980402</td>\n",
       "      <td>1.545433</td>\n",
       "      <td>5.488938</td>\n",
       "      <td>low</td>\n",
       "      <td>0</td>\n",
       "    </tr>\n",
       "    <tr>\n",
       "      <th>2</th>\n",
       "      <td>34700</td>\n",
       "      <td>0.027</td>\n",
       "      <td>4.69</td>\n",
       "      <td>7.18</td>\n",
       "      <td>4.97</td>\n",
       "      <td>2</td>\n",
       "      <td>24.2</td>\n",
       "      <td>17.8</td>\n",
       "      <td>4.03</td>\n",
       "      <td>10.454500</td>\n",
       "      <td>1.545433</td>\n",
       "      <td>5.488938</td>\n",
       "      <td>low</td>\n",
       "      <td>0</td>\n",
       "    </tr>\n",
       "    <tr>\n",
       "      <th>3</th>\n",
       "      <td>33400</td>\n",
       "      <td>0.032</td>\n",
       "      <td>4.58</td>\n",
       "      <td>7.00</td>\n",
       "      <td>6.06</td>\n",
       "      <td>3</td>\n",
       "      <td>22.2</td>\n",
       "      <td>18.7</td>\n",
       "      <td>2.94</td>\n",
       "      <td>10.416310</td>\n",
       "      <td>1.521699</td>\n",
       "      <td>5.402678</td>\n",
       "      <td>low</td>\n",
       "      <td>0</td>\n",
       "    </tr>\n",
       "    <tr>\n",
       "      <th>4</th>\n",
       "      <td>36199</td>\n",
       "      <td>0.069</td>\n",
       "      <td>4.58</td>\n",
       "      <td>7.15</td>\n",
       "      <td>6.06</td>\n",
       "      <td>3</td>\n",
       "      <td>22.2</td>\n",
       "      <td>18.7</td>\n",
       "      <td>5.33</td>\n",
       "      <td>10.496790</td>\n",
       "      <td>1.521699</td>\n",
       "      <td>5.402678</td>\n",
       "      <td>low</td>\n",
       "      <td>0</td>\n",
       "    </tr>\n",
       "  </tbody>\n",
       "</table>\n",
       "</div>"
      ],
      "text/plain": [
       "   price  crime   nox  rooms  dist  radial  proptax  stratio  lowstat  \\\n",
       "0  24000  0.006  5.38   6.57  4.09       1     29.6     15.3     4.98   \n",
       "1  21599  0.027  4.69   6.42  4.97       2     24.2     17.8     9.14   \n",
       "2  34700  0.027  4.69   7.18  4.97       2     24.2     17.8     4.03   \n",
       "3  33400  0.032  4.58   7.00  6.06       3     22.2     18.7     2.94   \n",
       "4  36199  0.069  4.58   7.15  6.06       3     22.2     18.7     5.33   \n",
       "\n",
       "      lprice      lnox  lproptax nox_cat  nox_cat_low  \n",
       "0  10.085810  1.682688  5.690360  medium            1  \n",
       "1   9.980402  1.545433  5.488938     low            0  \n",
       "2  10.454500  1.545433  5.488938     low            0  \n",
       "3  10.416310  1.521699  5.402678     low            0  \n",
       "4  10.496790  1.521699  5.402678     low            0  "
      ]
     },
     "execution_count": 6,
     "metadata": {},
     "output_type": "execute_result"
    }
   ],
   "source": [
    "percentiles = [0, 0.4, 0.6, 1]\n",
    "labels = [\"low\", \"medium\", \"high\"]\n",
    "raw_data[\"nox_cat\"] = pd.qcut(raw_data[\"nox\"], q=percentiles, labels=labels)\n",
    "\n",
    "#create a column in raw_data that is 0 if nox_cat is low and 1 otherwise\n",
    "raw_data[\"nox_cat_low\"] = np.where(raw_data[\"nox_cat\"] == \"low\", 0, 1)\n",
    "\n",
    "raw_data.head()"
   ]
  },
  {
   "cell_type": "markdown",
   "metadata": {},
   "source": [
    "**<font color=\"#0078D4\">\n",
    "    Question 7: Compute for each category of nox level the average median price and comment on your\n",
    "    results\n",
    "</font>**"
   ]
  },
  {
   "cell_type": "code",
   "execution_count": 7,
   "metadata": {},
   "outputs": [
    {
     "name": "stderr",
     "output_type": "stream",
     "text": [
      "/tmp/ipykernel_21631/3756520965.py:1: FutureWarning: The default of observed=False is deprecated and will be changed to True in a future version of pandas. Pass observed=False to retain current behavior or observed=True to adopt the future default and silence this warning.\n",
      "  avg_medianPrice_per_noxCat = raw_data.groupby(\"nox_cat\")[\"price\"].mean().reset_index().rename(columns={\"price\": \"avg_medianPrice\"})\n"
     ]
    },
    {
     "data": {
      "text/html": [
       "<div>\n",
       "<style scoped>\n",
       "    .dataframe tbody tr th:only-of-type {\n",
       "        vertical-align: middle;\n",
       "    }\n",
       "\n",
       "    .dataframe tbody tr th {\n",
       "        vertical-align: top;\n",
       "    }\n",
       "\n",
       "    .dataframe thead th {\n",
       "        text-align: right;\n",
       "    }\n",
       "</style>\n",
       "<table border=\"1\" class=\"dataframe\">\n",
       "  <thead>\n",
       "    <tr style=\"text-align: right;\">\n",
       "      <th></th>\n",
       "      <th>nox_cat</th>\n",
       "      <th>avg_medianPrice</th>\n",
       "    </tr>\n",
       "  </thead>\n",
       "  <tbody>\n",
       "    <tr>\n",
       "      <th>0</th>\n",
       "      <td>low</td>\n",
       "      <td>27170.609524</td>\n",
       "    </tr>\n",
       "    <tr>\n",
       "      <th>1</th>\n",
       "      <td>medium</td>\n",
       "      <td>20661.824742</td>\n",
       "    </tr>\n",
       "    <tr>\n",
       "      <th>2</th>\n",
       "      <td>high</td>\n",
       "      <td>18496.477387</td>\n",
       "    </tr>\n",
       "  </tbody>\n",
       "</table>\n",
       "</div>"
      ],
      "text/plain": [
       "  nox_cat  avg_medianPrice\n",
       "0     low     27170.609524\n",
       "1  medium     20661.824742\n",
       "2    high     18496.477387"
      ]
     },
     "execution_count": 7,
     "metadata": {},
     "output_type": "execute_result"
    }
   ],
   "source": [
    "avg_medianPrice_per_noxCat = raw_data.groupby(\"nox_cat\")[\"price\"].mean().reset_index().rename(columns={\"price\": \"avg_medianPrice\"})\n",
    "\n",
    "avg_medianPrice_per_noxCat.head()"
   ]
  },
  {
   "cell_type": "markdown",
   "metadata": {},
   "source": [
    "**<font color=\"#0078D4\">\n",
    "    Question 8: Produce a scatter plot with the variable price on the y-axis and the variable nox on the x-axis.\n",
    "</font>**"
   ]
  },
  {
   "cell_type": "code",
   "execution_count": 8,
   "metadata": {},
   "outputs": [
    {
     "data": {
      "image/png": "[encoded data removed]",
      "text/plain": [
       "<Figure size 640x480 with 1 Axes>"
      ]
     },
     "metadata": {},
     "output_type": "display_data"
    }
   ],
   "source": [
    "plt.scatter(raw_data[\"nox\"], raw_data[\"price\"])\n",
    "plt.xlabel(\"nox\")\n",
    "plt.ylabel(\"price\")\n",
    "plt.show()"
   ]
  },
  {
   "cell_type": "markdown",
   "metadata": {},
   "source": [
    "**<font color=\"#0078D4\">\n",
    "    Is this a Ceteris Paribus effect?\n",
    "</font>**"
   ]
  },
  {
   "cell_type": "markdown",
   "metadata": {},
   "source": [
    "Ceteris paribus is a concept used in statistical analysis where the effect of a single variable is examined while keeping all other variables constant. \n",
    "\n",
    "A scatter plot alone cannot demonstrate a ceteris paribus effect, because, a scatter plot shows the relationship between two variables, such as 'price' and 'nox', but it doesn't account for the influence of other variables. To assess the ceteris paribus effect, you would typically use regression analysis, where you can control for the impact of other variables and isolate the specific effect of 'nox' on 'price' while holding other factors constant.\n",
    "\n",
    "So, what we can do is to ensure that the relationship between the variable of interest and the dependent variable appears linear in the scatterplot. \n",
    "\n",
    "If the relationship is nonlinear, the ceteris paribus assumption might be violated."
   ]
  },
  {
   "cell_type": "markdown",
   "metadata": {},
   "source": [
    "**<font color=\"#0078D4\">\n",
    "    Question 9: Run a regression of price on a constant, crime, nox, rooms, proptax.\n",
    "    Comment on the histogram of the residuals.\n",
    "    Interpret all coefficients.\n",
    "</font>**"
   ]
  },
  {
   "cell_type": "code",
   "execution_count": 9,
   "metadata": {},
   "outputs": [
    {
     "name": "stdout",
     "output_type": "stream",
     "text": [
      "                            OLS Regression Results                            \n",
      "==============================================================================\n",
      "Dep. Variable:                  price   R-squared:                       0.575\n",
      "Model:                            OLS   Adj. R-squared:                  0.572\n",
      "Method:                 Least Squares   F-statistic:                     169.6\n",
      "Date:                Sat, 09 Dec 2023   Prob (F-statistic):           1.06e-91\n",
      "Time:                        18:44:12   Log-Likelihood:                -5119.6\n",
      "No. Observations:                 506   AIC:                         1.025e+04\n",
      "Df Residuals:                     501   BIC:                         1.027e+04\n",
      "Df Model:                           4                                         \n",
      "Covariance Type:            nonrobust                                         \n",
      "==============================================================================\n",
      "                 coef    std err          t      P>|t|      [0.025      0.975]\n",
      "------------------------------------------------------------------------------\n",
      "const      -1.868e+04   3215.205     -5.811      0.000    -2.5e+04   -1.24e+04\n",
      "crime       -136.5438     38.529     -3.544      0.000    -212.241     -60.846\n",
      "nox         -660.4672    314.634     -2.099      0.036   -1278.632     -42.303\n",
      "rooms       7797.9286    404.345     19.285      0.000    7003.507    8592.350\n",
      "proptax      -89.4144     23.966     -3.731      0.000    -136.500     -42.329\n",
      "==============================================================================\n",
      "Omnibus:                      264.796   Durbin-Watson:                   0.752\n",
      "Prob(Omnibus):                  0.000   Jarque-Bera (JB):             2348.397\n",
      "Skew:                           2.111   Prob(JB):                         0.00\n",
      "Kurtosis:                      12.673   Cond. No.                         546.\n",
      "==============================================================================\n",
      "\n",
      "Notes:\n",
      "[1] Standard Errors assume that the covariance matrix of the errors is correctly specified.\n"
     ]
    },
    {
     "data": {
      "image/png": "[encoded data removed]",
      "text/plain": [
       "<Figure size 640x480 with 1 Axes>"
      ]
     },
     "metadata": {},
     "output_type": "display_data"
    }
   ],
   "source": [
    "# create X and y\n",
    "X = raw_data[[\"crime\", \"nox\", \"rooms\", \"proptax\"]]\n",
    "y = raw_data[\"price\"]\n",
    "\n",
    "# add constant\n",
    "X = sm.add_constant(X)\n",
    "\n",
    "# fit model\n",
    "model = sm.OLS(y, X).fit()\n",
    "\n",
    "# print summary\n",
    "print(model.summary())\n",
    "\n",
    "# plot residuals\n",
    "plt.hist(model.resid)\n",
    "plt.show()"
   ]
  },
  {
   "cell_type": "markdown",
   "metadata": {},
   "source": [
    "**<font color=\"#0078D4\">\n",
    "    Comment on the histogram of the residuals.\n",
    "</font>**\n",
    "\n",
    "The histogram of the residuals is not normally distributed. It is skewed to the right.\n",
    "This means that the model is not a good fit.\n",
    "\n",
    "\n",
    "**<font color=\"#0078D4\">\n",
    "    Interpret all coefficients.\n",
    "</font>**\n",
    "\n",
    "- The coefficient of crime is negative, which means that the higher the crime rate, the lower the price.\n",
    "- The coefficient of nox is negative, which means that the higher the nox, the lower the price.\n",
    "- The coefficient of rooms is positive, which means that the higher the number of rooms, the higher the price.\n",
    "- The coefficient of proptax is negative, which means that the higher the proptax, the lower the price."
   ]
  },
  {
   "cell_type": "markdown",
   "metadata": {},
   "source": [
    "**<font color=\"#0078D4\">\n",
    "    Question 10: Run a regression of lprice on a constant, crime, nox, rooms, proptax. \n",
    "</font>**"
   ]
  },
  {
   "cell_type": "code",
   "execution_count": 10,
   "metadata": {},
   "outputs": [
    {
     "name": "stdout",
     "output_type": "stream",
     "text": [
      "                            OLS Regression Results                            \n",
      "==============================================================================\n",
      "Dep. Variable:                 lprice   R-squared:                       0.611\n",
      "Model:                            OLS   Adj. R-squared:                  0.608\n",
      "Method:                 Least Squares   F-statistic:                     196.9\n",
      "Date:                Sat, 09 Dec 2023   Prob (F-statistic):          2.50e-101\n",
      "Time:                        18:44:12   Log-Likelihood:                -26.367\n",
      "No. Observations:                 506   AIC:                             62.73\n",
      "Df Residuals:                     501   BIC:                             83.87\n",
      "Df Model:                           4                                         \n",
      "Covariance Type:            nonrobust                                         \n",
      "==============================================================================\n",
      "                 coef    std err          t      P>|t|      [0.025      0.975]\n",
      "------------------------------------------------------------------------------\n",
      "const          8.6550      0.137     63.320      0.000       8.386       8.924\n",
      "crime         -0.0125      0.002     -7.641      0.000      -0.016      -0.009\n",
      "nox           -0.0476      0.013     -3.557      0.000      -0.074      -0.021\n",
      "rooms          0.2816      0.017     16.379      0.000       0.248       0.315\n",
      "proptax       -0.0043      0.001     -4.184      0.000      -0.006      -0.002\n",
      "==============================================================================\n",
      "Omnibus:                      118.409   Durbin-Watson:                   0.764\n",
      "Prob(Omnibus):                  0.000   Jarque-Bera (JB):              730.140\n",
      "Skew:                           0.859   Prob(JB):                    2.83e-159\n",
      "Kurtosis:                       8.629   Cond. No.                         546.\n",
      "==============================================================================\n",
      "\n",
      "Notes:\n",
      "[1] Standard Errors assume that the covariance matrix of the errors is correctly specified.\n",
      "SSR0= 32.88043225721341\n"
     ]
    },
    {
     "data": {
      "image/png": "[encoded data removed]",
      "text/plain": [
       "<Figure size 640x480 with 1 Axes>"
      ]
     },
     "metadata": {},
     "output_type": "display_data"
    }
   ],
   "source": [
    "# Question 10: Run a regression of lprice on a constant, crime, nox, rooms, proptax.\n",
    "# Comment on the histogram of the residuals.\n",
    "# Interpret all coefficients.\n",
    "\n",
    "# the only difference is that we use lprice instead of price\n",
    "X0 = X\n",
    "y = raw_data[\"lprice\"]\n",
    "\n",
    "# fit model\n",
    "model = sm.OLS(y, X).fit()\n",
    "\n",
    "# print summary\n",
    "print(model.summary())\n",
    "\n",
    "df_u = model.df_resid\n",
    "u=model.resid\n",
    "SSR0 = model.ssr\n",
    "print(\"SSR0=\",SSR0)\n",
    "\n",
    "# plot residuals\n",
    "plt.hist(model.resid)\n",
    "plt.show()\n"
   ]
  },
  {
   "cell_type": "markdown",
   "metadata": {},
   "source": [
    "**<font color=\"#0078D4\">\n",
    "    Comment on the histogram of the residuals.\n",
    "</font>**\n",
    "\n",
    "The histogram of the residuals is more normal than the one from the previous question.\n",
    "This is because we used the log of the price instead of the price itself.\n",
    "This is a common transformation to do when the distribution of the dependent variable is skewed.\n",
    "In this case, the distribution of the dependent variable is skewed to the right.\n",
    "\n",
    "**<font color=\"#0078D4\">\n",
    "    Interpret all coefficients.\n",
    "</font>**\n",
    "- The coefficient of crime is negative and significant. This means that the higher the crime rate, the lower the price of the house.\n",
    "- The coefficient of nox is negative and significant. This means that the higher the nox, the lower the price of the house.\n",
    "- The coefficient of rooms is positive and significant. This means that the more rooms, the higher the price of the house.\n",
    "- The coefficient of proptax is negative and significant. This means that the higher the proptax, the lower the price of the house.\n",
    "- The coefficient of the constant is positive and significant. This means that the price of the house is positive even when all the other variables are 0.\n",
    "\n"
   ]
  },
  {
   "cell_type": "markdown",
   "metadata": {},
   "source": [
    "**<font color=\"#0078D4\">\n",
    "    Question 11: Run a regression of lprice on a constant, crime, lnox, rooms, lproptax.\n",
    "</font>**"
   ]
  },
  {
   "cell_type": "code",
   "execution_count": 11,
   "metadata": {},
   "outputs": [
    {
     "name": "stdout",
     "output_type": "stream",
     "text": [
      "                            OLS Regression Results                            \n",
      "==============================================================================\n",
      "Dep. Variable:                 lprice   R-squared:                       0.612\n",
      "Model:                            OLS   Adj. R-squared:                  0.609\n",
      "Method:                 Least Squares   F-statistic:                     197.4\n",
      "Date:                Sat, 09 Dec 2023   Prob (F-statistic):          1.77e-101\n",
      "Time:                        18:44:12   Log-Likelihood:                -26.021\n",
      "No. Observations:                 506   AIC:                             62.04\n",
      "Df Residuals:                     501   BIC:                             83.18\n",
      "Df Model:                           4                                         \n",
      "Covariance Type:            nonrobust                                         \n",
      "==============================================================================\n",
      "                 coef    std err          t      P>|t|      [0.025      0.975]\n",
      "------------------------------------------------------------------------------\n",
      "const          9.7505      0.253     38.476      0.000       9.253      10.248\n",
      "crime         -0.0128      0.002     -8.002      0.000      -0.016      -0.010\n",
      "lnox          -0.2769      0.077     -3.591      0.000      -0.428      -0.125\n",
      "rooms          0.2802      0.017     16.282      0.000       0.246       0.314\n",
      "lproptax      -0.1779      0.042     -4.215      0.000      -0.261      -0.095\n",
      "==============================================================================\n",
      "Omnibus:                      116.110   Durbin-Watson:                   0.768\n",
      "Prob(Omnibus):                  0.000   Jarque-Bera (JB):              716.737\n",
      "Skew:                           0.838   Prob(JB):                    2.30e-156\n",
      "Kurtosis:                       8.585   Cond. No.                         241.\n",
      "==============================================================================\n",
      "\n",
      "Notes:\n",
      "[1] Standard Errors assume that the covariance matrix of the errors is correctly specified.\n"
     ]
    },
    {
     "data": {
      "image/png": "[encoded data removed]",
      "text/plain": [
       "<Figure size 640x480 with 1 Axes>"
      ]
     },
     "metadata": {},
     "output_type": "display_data"
    }
   ],
   "source": [
    "# Question 11: Run a regression of lprice on a constant, crime, lnox, rooms, lproptax.\n",
    "# Comment on the histogram of the residuals.\n",
    "# Interpret all coefficients.\n",
    "\n",
    "# create X and y\n",
    "X = raw_data[[\"crime\", \"lnox\", \"rooms\", \"lproptax\"]]\n",
    "y = raw_data[\"lprice\"]\n",
    "\n",
    "# add constant\n",
    "X = sm.add_constant(X)\n",
    "\n",
    "# fit model\n",
    "model = sm.OLS(y, X).fit()\n",
    "\n",
    "# print summary\n",
    "print(model.summary())\n",
    "\n",
    "# plot residuals\n",
    "plt.hist(model.resid)\n",
    "plt.show()"
   ]
  },
  {
   "cell_type": "markdown",
   "metadata": {},
   "source": [
    "**<font color=\"#0078D4\">\n",
    "    Comment on the histogram of the residuals.\n",
    "</font>**\n",
    "\n",
    "The histogram of the residuals is more symmetric than the previous one.\n",
    "The mean is close to zero and the variance is constant.\n",
    "\n",
    "**<font color=\"#0078D4\">\n",
    "    Interpret all coefficients.\n",
    "</font>**\n",
    "- The coefficient of crime is negative and significant. This means that the higher the crime rate, the lower the price of the house.\n",
    "- The coefficient of lnox is negative and significant. This means that the higher the nox, the lower the price of the house.\n",
    "- The coefficient of rooms is positive and significant. This means that the more rooms, the higher the price of the house.\n",
    "- The coefficient of lproptax is negative and significant. This means that the higher the proptax, the lower the price of the house."
   ]
  },
  {
   "cell_type": "markdown",
   "metadata": {},
   "source": [
    "**<font color=\"#0078D4\">\n",
    "    Question 12: In the specification of question 10, test the hypothesis H0: $\\beta_{nox} >0$ vs. H1: $\\beta_{nox} < 0$ at the 10%\n",
    "    level\n",
    "</font>**"
   ]
  },
  {
   "cell_type": "markdown",
   "metadata": {},
   "source": [
    "When we state the alternative like H1: $\\beta_{nox} < 0$, we are doing a one-tailed test and we are really saying that the null hypothesis is $\\beta_{nox} >= 0$. We only care about detecting that $\\beta_j$ is different from zero when $\\beta_j$ is actually negative. In other words, if we reject $\\beta_j = 0$, then we automatically reject $\\beta_j > 0$.\n",
    "\n",
    "Therefore, it suffices to act as if we are testing H0: $\\beta_{nox} = 0$ vs. H1: $\\beta_{nox} < 0$.\n",
    "\n",
    "That is a one-tailed test."
   ]
  },
  {
   "cell_type": "code",
   "execution_count": 12,
   "metadata": {},
   "outputs": [
    {
     "name": "stdout",
     "output_type": "stream",
     "text": [
      "t_nox= -3.5570290100073025\n",
      "critical_value= -1.2832436320111769\n",
      "Reject H0?   True\n"
     ]
    }
   ],
   "source": [
    "alpha = 0.1\n",
    "\n",
    "# re-create X and y for question 10\n",
    "X = raw_data[[\"crime\", \"nox\", \"rooms\", \"proptax\"]]\n",
    "y = raw_data[\"lprice\"]\n",
    "\n",
    "# add constant\n",
    "X = sm.add_constant(X)\n",
    "\n",
    "# fit model\n",
    "model = sm.OLS(y, X).fit()\n",
    "\n",
    "# t-statistic for nox\n",
    "t_Bnox = model.tvalues[\"nox\"]\n",
    "df = model.df_resid\n",
    "print(\"t_nox=\", t_Bnox)\n",
    "\n",
    "# critical value for t-distribution\n",
    "critical_value = t.ppf(alpha, df) # We are using alpha (instead of 1-alpha) because the test is t_nox < -c  with c > 0\n",
    "print(\"critical_value=\", critical_value)\n",
    "\n",
    "print(\"Reject H0?  \", t_Bnox < critical_value)"
   ]
  },
  {
   "cell_type": "markdown",
   "metadata": {},
   "source": [
    "**<font color=\"#0078D4\">\n",
    "    Question 13: In the specification of question 10, test the hypothesis $H_0: \\beta_{nox} = 0 $ vs. $H_1: \\beta_{nox} ≠ 0 $ at the 10% level using the p-value of the test\n",
    "</font>**"
   ]
  },
  {
   "cell_type": "markdown",
   "metadata": {},
   "source": [
    "In this case we are testing the null hypothesis $H_0$ against a two-sided alternative hypothesis $H_1$.\n",
    "\n",
    "The rejection rule is:\n",
    "$$\n",
    "    |{t}| > c\n",
    "$$\n",
    "\n",
    "where c is the critical value of the t-distribution with n-k-1 degrees of freedom and a significance level of 10% (5% each side).\n",
    "\n",
    "OSS. We are using the summary of the question 12 above."
   ]
  },
  {
   "cell_type": "code",
   "execution_count": 13,
   "metadata": {},
   "outputs": [
    {
     "name": "stdout",
     "output_type": "stream",
     "text": [
      "p-value:  0.00041069590525890363\n",
      "Reject H0? :  True\n"
     ]
    }
   ],
   "source": [
    "# with the p-value method\n",
    "alpha = 0.1\n",
    "\n",
    "p_value = model.pvalues[\"nox\"]\n",
    "print(\"p-value: \", p_value)\n",
    "\n",
    "# compare p-value and alpha\n",
    "print(\"Reject H0? : \", p_value < alpha)"
   ]
  },
  {
   "cell_type": "markdown",
   "metadata": {},
   "source": [
    "Or, with the t-statistic method... (just to verify)"
   ]
  },
  {
   "cell_type": "code",
   "execution_count": 14,
   "metadata": {},
   "outputs": [
    {
     "name": "stdout",
     "output_type": "stream",
     "text": [
      "t-statistic:  3.5570290100073025\n",
      "critical value:  1.647900748316425\n",
      "Reject H0? :  True\n"
     ]
    }
   ],
   "source": [
    "# compute t-statistic\n",
    "t_statistic_abs = np.abs(model.tvalues[\"nox\"])\n",
    "print(\"t-statistic: \", t_statistic_abs)\n",
    "\n",
    "#compute critical value\n",
    "critical_value = t.ppf(1-alpha/2, df=model.df_resid)\n",
    "print(\"critical value: \", critical_value)\n",
    "\n",
    "# compare t-statistic and critical value\n",
    "print(\"Reject H0? : \", t_statistic_abs > critical_value)"
   ]
  },
  {
   "cell_type": "markdown",
   "metadata": {},
   "source": [
    "**<font color=\"#0078D4\">\n",
    "    Question 14: In the specification of question 10, test the hypothesis H0: $\\beta_{crime} = \\beta_{proptax} $ at the 1% level\n",
    "</font>**"
   ]
  },
  {
   "cell_type": "markdown",
   "metadata": {},
   "source": [
    "In order to perform this test, we define the variable $\\theta = \\beta_{crime} - \\beta_{proptax}$. Then, we test the hypothesis H0: $\\theta = 0$ vs. H1: $\\theta ≠ 0$ at the 1% level.\n",
    "\n",
    "Starting from the X of question 10:\n",
    "$$\n",
    "X_{question10} = \\beta_0 + \\beta_{crime} * crime + \\beta_{nox} * nox + \\beta_{rooms} * rooms + \\beta_{proptax} * proptax + \\epsilon\n",
    "$$\n",
    "$$\n",
    "\\theta = \\beta_{crime} - \\beta_{proptax}\n",
    "$$\n",
    "and so:\n",
    "$$\n",
    "\\beta_{crime} = \\theta + \\beta_{proptax}\n",
    "$$\n",
    "Rewriting $X_{question10}$ in terms of $\\theta$:\n",
    "$$\n",
    "X_{question10} = \\beta_0 + (\\theta + \\beta_{proptax}) * crime + \\beta_{nox} * nox + \\beta_{rooms} * rooms + \\beta_{proptax} * proptax + \\epsilon\n",
    "$$\n",
    "$$\n",
    "X_{question10} = \\beta_0 + \\theta * crime + \\beta_{proptax} * crime + \\beta_{nox} * nox + \\beta_{rooms} * rooms + \\beta_{proptax} * proptax + \\epsilon\n",
    "$$\n",
    "Finally, we can rewrite $X_{question10}$ in order to answer the question:\n",
    "$$\n",
    "X = \\beta_0 + \\theta * crime + \\beta_{nox} * nox + \\beta_{rooms} * rooms + \\beta_{proptax} * (crime + proptax) + \\epsilon\n",
    "$$"
   ]
  },
  {
   "cell_type": "code",
   "execution_count": 15,
   "metadata": {},
   "outputs": [
    {
     "name": "stdout",
     "output_type": "stream",
     "text": [
      "                            OLS Regression Results                            \n",
      "==============================================================================\n",
      "Dep. Variable:                 lprice   R-squared:                       0.611\n",
      "Model:                            OLS   Adj. R-squared:                  0.608\n",
      "Method:                 Least Squares   F-statistic:                     196.9\n",
      "Date:                Sat, 09 Dec 2023   Prob (F-statistic):          2.50e-101\n",
      "Time:                        18:44:13   Log-Likelihood:                -26.367\n",
      "No. Observations:                 506   AIC:                             62.73\n",
      "Df Residuals:                     501   BIC:                             83.87\n",
      "Df Model:                           4                                         \n",
      "Covariance Type:            nonrobust                                         \n",
      "==============================================================================\n",
      "                 coef    std err          t      P>|t|      [0.025      0.975]\n",
      "------------------------------------------------------------------------------\n",
      "const          8.6550      0.137     63.320      0.000       8.386       8.924\n",
      "x1            -0.0083      0.002     -3.624      0.000      -0.013      -0.004\n",
      "x2            -0.0476      0.013     -3.557      0.000      -0.074      -0.021\n",
      "x3             0.2816      0.017     16.379      0.000       0.248       0.315\n",
      "x4            -0.0043      0.001     -4.184      0.000      -0.006      -0.002\n",
      "==============================================================================\n",
      "Omnibus:                      118.409   Durbin-Watson:                   0.764\n",
      "Prob(Omnibus):                  0.000   Jarque-Bera (JB):              730.140\n",
      "Skew:                           0.859   Prob(JB):                    2.83e-159\n",
      "Kurtosis:                       8.629   Cond. No.                         617.\n",
      "==============================================================================\n",
      "\n",
      "Notes:\n",
      "[1] Standard Errors assume that the covariance matrix of the errors is correctly specified.\n"
     ]
    }
   ],
   "source": [
    "# create X and y\n",
    "crime = raw_data[\"crime\"]\n",
    "proptax = raw_data[\"proptax\"]\n",
    "nox = raw_data[\"nox\"]\n",
    "rooms = raw_data[\"rooms\"]\n",
    "lprice = raw_data[\"lprice\"]\n",
    "\n",
    "X = np.column_stack((crime, nox, rooms, proptax + crime))\n",
    "y = lprice\n",
    "\n",
    "# add constant\n",
    "X = sm.add_constant(X)\n",
    "\n",
    "# fit model\n",
    "model = sm.OLS(y, X).fit()\n",
    "\n",
    "# print summary\n",
    "print(model.summary())"
   ]
  },
  {
   "cell_type": "markdown",
   "metadata": {},
   "source": [
    "If the p-value is less than 0.01, you would reject the null hypothesis at the 1% level of significance."
   ]
  },
  {
   "cell_type": "code",
   "execution_count": 16,
   "metadata": {},
   "outputs": [
    {
     "name": "stdout",
     "output_type": "stream",
     "text": [
      "p_value:  0.00032020806460970804\n",
      "Reject H_0 ? True\n"
     ]
    }
   ],
   "source": [
    "alpha = 0.01\n",
    "variable = \"x1\"  #this will be our theta\n",
    "\n",
    "print(\"p_value: \", model.pvalues[variable])\n",
    "\n",
    "print(\"Reject H_0 ?\", model.pvalues[variable] < alpha)"
   ]
  },
  {
   "cell_type": "markdown",
   "metadata": {},
   "source": [
    "\n",
    "**<font color=\"#0078D4\">\n",
    "    Question 15: In the specification of question 10, test the hypothesis $H0: \\beta_{nox} = 0, \\beta_{proptax} = 0$ at the 1% level\n",
    "</font>**"
   ]
  },
  {
   "cell_type": "code",
   "execution_count": 17,
   "metadata": {},
   "outputs": [
    {
     "name": "stdout",
     "output_type": "stream",
     "text": [
      "                            OLS Regression Results                            \n",
      "==============================================================================\n",
      "Dep. Variable:                 lprice   R-squared:                       0.560\n",
      "Model:                            OLS   Adj. R-squared:                  0.558\n",
      "Method:                 Least Squares   F-statistic:                     319.5\n",
      "Date:                Sat, 09 Dec 2023   Prob (F-statistic):           2.82e-90\n",
      "Time:                        18:44:13   Log-Likelihood:                -57.988\n",
      "No. Observations:                 506   AIC:                             122.0\n",
      "Df Residuals:                     503   BIC:                             134.7\n",
      "Df Model:                           2                                         \n",
      "Covariance Type:            nonrobust                                         \n",
      "==============================================================================\n",
      "                 coef    std err          t      P>|t|      [0.025      0.975]\n",
      "------------------------------------------------------------------------------\n",
      "const          8.0219      0.113     71.041      0.000       7.800       8.244\n",
      "crime         -0.0195      0.001    -13.472      0.000      -0.022      -0.017\n",
      "rooms          0.3166      0.018     17.921      0.000       0.282       0.351\n",
      "==============================================================================\n",
      "Omnibus:                       53.012   Durbin-Watson:                   0.868\n",
      "Prob(Omnibus):                  0.000   Jarque-Bera (JB):              316.066\n",
      "Skew:                           0.141   Prob(JB):                     2.33e-69\n",
      "Kurtosis:                       6.862   Cond. No.                         92.2\n",
      "==============================================================================\n",
      "\n",
      "Notes:\n",
      "[1] Standard Errors assume that the covariance matrix of the errors is correctly specified.\n",
      "F= 33.34883596283154\n",
      "p_val= 2.5293764225613786e-14\n",
      "\n",
      "Reject H_0 ? True\n"
     ]
    }
   ],
   "source": [
    "alpha = 0.01\n",
    "\n",
    "X = raw_data[[\"crime\", \"rooms\"]]\n",
    "y = raw_data[\"lprice\"]\n",
    "\n",
    "# add constant\n",
    "X = sm.add_constant(X)\n",
    "\n",
    "# fit model\n",
    "model = sm.OLS(y, X).fit()\n",
    "\n",
    "# print summary\n",
    "print(model.summary())\n",
    "\n",
    "# degrees of freedom of the restricted model\n",
    "df_r = model.df_resid\n",
    "\n",
    "q = df_r - df_u\n",
    "\n",
    "SSR1=model.ssr\n",
    "\n",
    "# df_r and df_u are the degrees of freedom of the restricted (this one) and unrestricted (question 10) model respectively\n",
    "F=( (SSR1-SSR0) / q)  / (SSR0/df_u)\n",
    "print(\"F=\", F)\n",
    "\n",
    "p_val = f.sf(F, q, df_u)\n",
    "print(\"p_val=\",p_val)\n",
    "\n",
    "print(\"\\nReject H_0 ?\", p_val < alpha)\n"
   ]
  },
  {
   "cell_type": "markdown",
   "metadata": {},
   "source": [
    "**<font color=\"#0078D4\">\n",
    "    Question 16: In the specification of question 10, test the hypothesis $H_0: \\beta_{nox} = -500$, $\\beta_{proptax} = -100$ at the 1% level using the p-value of the test\n",
    "</font>**"
   ]
  },
  {
   "cell_type": "code",
   "execution_count": 18,
   "metadata": {},
   "outputs": [
    {
     "name": "stdout",
     "output_type": "stream",
     "text": [
      "                            OLS Regression Results                            \n",
      "==============================================================================\n",
      "Dep. Variable:                      y   R-squared:                       0.373\n",
      "Model:                            OLS   Adj. R-squared:                  0.371\n",
      "Method:                 Least Squares   F-statistic:                     149.7\n",
      "Date:                Sat, 09 Dec 2023   Prob (F-statistic):           9.89e-52\n",
      "Time:                        18:44:13   Log-Likelihood:                -4473.9\n",
      "No. Observations:                 506   AIC:                             8954.\n",
      "Df Residuals:                     503   BIC:                             8966.\n",
      "Df Model:                           2                                         \n",
      "Covariance Type:            nonrobust                                         \n",
      "==============================================================================\n",
      "                 coef    std err          t      P>|t|      [0.025      0.975]\n",
      "------------------------------------------------------------------------------\n",
      "const       1.014e+04    696.468     14.560      0.000    8772.076    1.15e+04\n",
      "crime        132.0377      8.912     14.816      0.000     114.529     149.546\n",
      "rooms       -596.7609    108.959     -5.477      0.000    -810.832    -382.690\n",
      "==============================================================================\n",
      "Omnibus:                       11.181   Durbin-Watson:                   0.514\n",
      "Prob(Omnibus):                  0.004   Jarque-Bera (JB):               12.762\n",
      "Skew:                           0.272   Prob(JB):                      0.00169\n",
      "Kurtosis:                       3.556   Cond. No.                         92.2\n",
      "==============================================================================\n",
      "\n",
      "Notes:\n",
      "[1] Standard Errors assume that the covariance matrix of the errors is correctly specified.\n",
      "\n",
      "F= 10798305112.26283\n",
      "\n",
      "p_val= 0.0\n",
      "\n",
      "p_val= 0.000000000000000000000000000000\n",
      "\n",
      "Reject H_0 ? True\n"
     ]
    }
   ],
   "source": [
    "# X = raw_data[[\"crime\", \"rooms\"]]  # same as question 15\n",
    "y = raw_data[\"lprice\"] + 500*raw_data[\"nox\"] + 100*raw_data[\"proptax\"]\n",
    "\n",
    "# add constant\n",
    "X = sm.add_constant(X)\n",
    "\n",
    "# fit model\n",
    "model = sm.OLS(y, X).fit()\n",
    "\n",
    "# print summary\n",
    "print(model.summary())\n",
    "\n",
    "# degrees of freedom of the restricted model\n",
    "df_r = model.df_resid\n",
    "\n",
    "SSR1=model.ssr\n",
    "\n",
    "# df_r and df_u are the degrees of freedom of the restricted (this one) and unrestricted (question 10) model respectively\n",
    "q = df_r - df_u\n",
    "\n",
    "F = ( (SSR1-SSR0) / q ) / ( SSR0/df_u )\n",
    "print(\"\\nF=\", F)\n",
    "\n",
    "p_val = f.sf(F, q, df_u)\n",
    "print(\"\\np_val=\",p_val)\n",
    "\n",
    "print(\"\\nReject H_0 ?\", p_val < alpha)"
   ]
  },
  {
   "cell_type": "markdown",
   "metadata": {},
   "source": [
    "**<font color=\"#0078D4\">\n",
    "    Question 17: In the specification of question 10, test the hypothesis $H0: \\beta_{nox} + \\beta_{proptax} = -1000$ at the 1% \n",
    "level using the p-value of the test\n",
    "</font>**"
   ]
  },
  {
   "cell_type": "markdown",
   "metadata": {},
   "source": [
    "We can rewrite the null hypothesis as:\n",
    "\n",
    "$$\n",
    "H_0:  -1000 - \\beta_{proptax} - \\beta_{nox} = 0\n",
    "$$\n",
    "\n",
    "Then, we can define $\\theta = -1000 - \\beta_{proptax} - \\beta_{nox}$ and test the hypothesis $H_0: \\theta = 0$\n",
    "\n",
    "$$  \n",
    "    \\beta_{nox} = -1000 - \\beta_{proptax} - \\theta\n",
    "$$\n",
    "\n",
    "We can rewrite the X of question 10 as:\n",
    "\n",
    "$$\n",
    "X = \\beta_0 + \\beta_{crime} * crime + (-1000 - \\beta_{proptax} - \\theta) * nox + \\beta_{rooms} * rooms + \\beta_{proptax} * proptax + \\epsilon\n",
    "$$\n",
    "\n",
    "$$\n",
    "X = \\beta_0 + \\beta_{crime} * crime - 1000 * nox - \\theta * nox + \\beta_{rooms} * rooms + \\beta_{proptax} * (proptax - nox) + \\epsilon\n",
    "$$\n",
    "\n",
    "$$\n",
    "X = \\beta_0 + \\beta_{crime} * crime - \\theta * nox + \\beta_{rooms} * rooms + \\beta_{proptax} * (proptax - nox) + \\epsilon\n",
    "$$\n",
    "\n",
    "And the y will become:\n",
    "\n",
    "$$\n",
    "    y = log(price) + 1000 * nox\n",
    "$$\n"
   ]
  },
  {
   "cell_type": "code",
   "execution_count": 19,
   "metadata": {},
   "outputs": [
    {
     "name": "stdout",
     "output_type": "stream",
     "text": [
      "                            OLS Regression Results                            \n",
      "==============================================================================\n",
      "Dep. Variable:                      y   R-squared:                       1.000\n",
      "Model:                            OLS   Adj. R-squared:                  1.000\n",
      "Method:                 Least Squares   F-statistic:                 2.580e+09\n",
      "Date:                Sat, 09 Dec 2023   Prob (F-statistic):               0.00\n",
      "Time:                        18:44:13   Log-Likelihood:                -26.367\n",
      "No. Observations:                 506   AIC:                             62.73\n",
      "Df Residuals:                     501   BIC:                             83.87\n",
      "Df Model:                           4                                         \n",
      "Covariance Type:            nonrobust                                         \n",
      "==============================================================================\n",
      "                 coef    std err          t      P>|t|      [0.025      0.975]\n",
      "------------------------------------------------------------------------------\n",
      "const          8.6550      0.137     63.320      0.000       8.386       8.924\n",
      "x1            -0.0125      0.002     -7.641      0.000      -0.016      -0.009\n",
      "x2           999.9482      0.013   7.79e+04      0.000     999.923     999.973\n",
      "x3             0.2816      0.017     16.379      0.000       0.248       0.315\n",
      "x4            -0.0043      0.001     -4.184      0.000      -0.006      -0.002\n",
      "==============================================================================\n",
      "Omnibus:                      118.409   Durbin-Watson:                   0.764\n",
      "Prob(Omnibus):                  0.000   Jarque-Bera (JB):              730.140\n",
      "Skew:                           0.859   Prob(JB):                    2.83e-159\n",
      "Kurtosis:                       8.629   Cond. No.                         483.\n",
      "==============================================================================\n",
      "\n",
      "Notes:\n",
      "[1] Standard Errors assume that the covariance matrix of the errors is correctly specified.\n"
     ]
    }
   ],
   "source": [
    "# create X and y\n",
    "crime = raw_data[\"crime\"]\n",
    "proptax = raw_data[\"proptax\"]\n",
    "nox = raw_data[\"nox\"]\n",
    "rooms = raw_data[\"rooms\"]\n",
    "\n",
    "X = np.column_stack((crime, nox, rooms, proptax - nox))\n",
    "y = raw_data[\"lprice\"] + 1000*raw_data[\"nox\"]\n",
    "\n",
    "# add constant\n",
    "X = sm.add_constant(X)\n",
    "\n",
    "# fit model\n",
    "model = sm.OLS(y, X).fit()\n",
    "\n",
    "# print summary\n",
    "print(model.summary())"
   ]
  },
  {
   "cell_type": "code",
   "execution_count": 20,
   "metadata": {},
   "outputs": [
    {
     "name": "stdout",
     "output_type": "stream",
     "text": [
      "p_val= 0.0\n",
      "Reject H_0 ? True\n"
     ]
    }
   ],
   "source": [
    "alpha = 0.01\n",
    "variable = \"x2\"  #this will be our theta\n",
    "\n",
    "print(\"p_val=\", model.pvalues[variable])\n",
    "print(\"Reject H_0 ?\", model.pvalues[variable] < alpha)"
   ]
  },
  {
   "cell_type": "markdown",
   "metadata": {},
   "source": [
    "**<font color=\"#0078D4\">\n",
    "    Question 18: In the specification of question 10, test the hypothesis that all coefficients are the same for \n",
    "observations with low levels of nox vs. medium and high levels of nox.\n",
    "</font>**"
   ]
  },
  {
   "cell_type": "code",
   "execution_count": 21,
   "metadata": {},
   "outputs": [],
   "source": [
    "mask = (raw_data[\"nox_cat_low\"] == 0)"
   ]
  },
  {
   "cell_type": "code",
   "execution_count": 22,
   "metadata": {},
   "outputs": [],
   "source": [
    "# nox low\n",
    "model_1 = sm.OLS(y[mask], X[mask]).fit()\n",
    "SSR1 = model_1.ssr"
   ]
  },
  {
   "cell_type": "code",
   "execution_count": 23,
   "metadata": {},
   "outputs": [],
   "source": [
    "# nox medium or high\n",
    "model_2 = sm.OLS(y[~mask], X[~mask]).fit()\n",
    "SSR2 = model_2.ssr"
   ]
  },
  {
   "cell_type": "markdown",
   "metadata": {},
   "source": [
    "Now we calculate the F-statistic and the p-value to decide:"
   ]
  },
  {
   "cell_type": "code",
   "execution_count": 24,
   "metadata": {},
   "outputs": [
    {
     "name": "stdout",
     "output_type": "stream",
     "text": [
      "SSR0: 32.88043225721341\n",
      "SSR = SSR1+SSR2: 31.581831339012133\n"
     ]
    }
   ],
   "source": [
    "SSR = SSR1 + SSR2\n",
    "print(f\"SSR0: {SSR0}\")\n",
    "print(f\"SSR = SSR1+SSR2: {SSR}\")"
   ]
  },
  {
   "cell_type": "code",
   "execution_count": 25,
   "metadata": {},
   "outputs": [
    {
     "name": "stdout",
     "output_type": "stream",
     "text": [
      "F= 4.07896583648831\n",
      "p_value= 0.001222895858145388\n",
      "\n",
      "Reject H_0 ? True\n"
     ]
    }
   ],
   "source": [
    "# degrees of freedom of the restricted model\n",
    "df_r = model_1.df_resid + model_2.df_resid\n",
    "\n",
    "# n, k from the unrestricted model  (paragraph 7.4 book)\n",
    "n, k = X0.shape\n",
    "\n",
    "F = ((SSR0 - SSR) / SSR) * ((n - 2 * k) / k)\n",
    "print(\"F=\", F)\n",
    "\n",
    "p_val = f.sf(F, k, n - k)\n",
    "print(\"p_value=\", p_val)\n",
    "\n",
    "alpha = 0.05 # We assume a default alpha of 5%\n",
    "print(\"\\nReject H_0 ?\", p_val < alpha)"
   ]
  },
  {
   "cell_type": "markdown",
   "metadata": {},
   "source": [
    "**<font color=\"#0078D4\">\n",
    "    Question 19: Repeat the test of question 18 but now assuming that only the coefficients of nox and\n",
    "proptax can change between the two groups of observations. State and test H0.\n",
    "</font>**"
   ]
  },
  {
   "cell_type": "markdown",
   "metadata": {},
   "source": [
    "Our null hypoteshis will be:\n",
    "\n",
    "$$\n",
    "\n",
    "$$"
   ]
  }
 ],
 "metadata": {
  "kernelspec": {
   "display_name": "Python 3",
   "language": "python",
   "name": "python3"
  },
  "language_info": {
   "codemirror_mode": {
    "name": "ipython",
    "version": 3
   },
   "file_extension": ".py",
   "mimetype": "text/x-python",
   "name": "python",
   "nbconvert_exporter": "python",
   "pygments_lexer": "ipython3",
   "version": "3.10.12"
  }
 },
 "nbformat": 4,
 "nbformat_minor": 2
}
